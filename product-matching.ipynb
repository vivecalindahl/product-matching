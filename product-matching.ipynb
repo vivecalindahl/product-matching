{
 "cells": [
  {
   "cell_type": "markdown",
   "id": "584f6769-b4f6-4b97-aaf5-4392c552aab4",
   "metadata": {},
   "source": [
    "# About\n",
    "A company would like to gain insight about the price offerings of products on the market. During processing of offers for products, each offer needs to be matched to a product in a database. Here two datasets are provided: one representing a product database and one representing the offer stream. The task is to match each offer to a product. The products considered here belong to the category of cell phones.\n",
    "\n",
    "## Problem approach \n",
    "I consider this a classification task, where the each offer is considered as input that should be mapped to a single product. Since there are many products, it's a multiclass problem. \n",
    "\n",
    "The modeling is assumed to be complementary to the [GTIN](https://en.wikipedia.org/wiki/Global_Trade_Item_Number) index mapping, so I don't use that as an input feature. For a first prototype I use only the offer data to map to a product, i.e. without interacting with the product database. This means that I don't actually make use of the product attributes."
   ]
  },
  {
   "cell_type": "markdown",
   "id": "cde2336b-de5c-4689-842c-06a942038714",
   "metadata": {
    "tags": []
   },
   "source": [
    "#  Imports, setup"
   ]
  },
  {
   "cell_type": "code",
   "execution_count": 1,
   "id": "fd11783a-af91-4044-b9ce-abfbcd48ecc5",
   "metadata": {},
   "outputs": [],
   "source": [
    "# General\n",
    "import os\n",
    "import sys\n",
    "from tqdm import tqdm\n",
    "from time import time\n",
    "\n",
    "import pandas as pd\n",
    "import numpy as np\n",
    "\n",
    "import matplotlib.pyplot as plt\n",
    "import seaborn as sns\n",
    "\n",
    "import sklearn"
   ]
  },
  {
   "cell_type": "code",
   "execution_count": 2,
   "id": "87feda9e-7965-4097-94f7-ed1ecca30a4c",
   "metadata": {},
   "outputs": [],
   "source": [
    "sns.set_style(\"whitegrid\")"
   ]
  },
  {
   "cell_type": "code",
   "execution_count": 3,
   "id": "5acd2467-21c8-4348-8c9b-b67de3c8a335",
   "metadata": {},
   "outputs": [],
   "source": [
    "# Transformers, data\n",
    "from sklearn import preprocessing\n",
    "from sklearn.preprocessing import MinMaxScaler\n",
    "from sklearn.feature_extraction.text import CountVectorizer\n",
    "from sklearn.feature_extraction.text import TfidfTransformer, TfidfVectorizer\n",
    "from scipy import sparse"
   ]
  },
  {
   "cell_type": "code",
   "execution_count": 4,
   "id": "b7fa863e-a815-40c6-b121-16a8acd68fde",
   "metadata": {},
   "outputs": [],
   "source": [
    "# Hyperparameter search and cross-validation\n",
    "from sklearn import metrics\n",
    "from sklearn.model_selection import train_test_split\n",
    "from sklearn.model_selection import KFold\n",
    "from sklearn.model_selection import cross_val_score\n",
    "from sklearn.model_selection import RandomizedSearchCV, GridSearchCV\n",
    "import warnings\n",
    "from sklearn.exceptions import ConvergenceWarning\n",
    "\n",
    "from sklearn.utils.fixes import loguniform\n",
    "from scipy.stats import randint\n",
    "from scipy.stats import uniform"
   ]
  },
  {
   "cell_type": "code",
   "execution_count": 5,
   "id": "ad48533e-319a-4a54-a5d2-3e9a30492da8",
   "metadata": {},
   "outputs": [],
   "source": [
    "from sklearn.neighbors import KNeighborsClassifier\n",
    "from sklearn.naive_bayes import MultinomialNB\n",
    "from sklearn.linear_model import SGDClassifier\n",
    "# from sklearn.svm import LinearSVC\n",
    "# see https://scikit-learn.org/stable/modules/multiclass.html#multiclass-classification"
   ]
  },
  {
   "cell_type": "markdown",
   "id": "f420d9c3-9da7-4fff-bb92-de1d8558e4a0",
   "metadata": {},
   "source": [
    "# Load and merge datasets"
   ]
  },
  {
   "cell_type": "code",
   "execution_count": 6,
   "id": "39aac471-c6e9-47f8-9341-94c2d4fd4fe5",
   "metadata": {},
   "outputs": [],
   "source": [
    "products_filepath = \"product_database.json\"\n",
    "offers_filepath = \"./offers.json\""
   ]
  },
  {
   "cell_type": "code",
   "execution_count": 7,
   "id": "129907fc-cc4d-411e-97b9-0224b5cc0500",
   "metadata": {},
   "outputs": [],
   "source": [
    "df_products = pd.read_json(products_filepath)\n",
    "df_offers = pd.read_json(offers_filepath)"
   ]
  },
  {
   "cell_type": "markdown",
   "id": "ea416d95-69c2-47d8-95d8-c28c91045a79",
   "metadata": {},
   "source": [
    "## Products data"
   ]
  },
  {
   "cell_type": "code",
   "execution_count": 8,
   "id": "9974d86e-0887-419b-bc33-76ddddfddf6c",
   "metadata": {},
   "outputs": [
    {
     "data": {
      "text/html": [
       "<div>\n",
       "<style scoped>\n",
       "    .dataframe tbody tr th:only-of-type {\n",
       "        vertical-align: middle;\n",
       "    }\n",
       "\n",
       "    .dataframe tbody tr th {\n",
       "        vertical-align: top;\n",
       "    }\n",
       "\n",
       "    .dataframe thead th {\n",
       "        text-align: right;\n",
       "    }\n",
       "</style>\n",
       "<table border=\"1\" class=\"dataframe\">\n",
       "  <thead>\n",
       "    <tr style=\"text-align: right;\">\n",
       "      <th></th>\n",
       "      <th>id</th>\n",
       "      <th>categoryId</th>\n",
       "      <th>combinedNames</th>\n",
       "      <th>productNames</th>\n",
       "      <th>positivelyVerifiedOfferNames</th>\n",
       "      <th>attributes</th>\n",
       "      <th>gtin14</th>\n",
       "      <th>isbn10</th>\n",
       "      <th>priceCalculations</th>\n",
       "    </tr>\n",
       "  </thead>\n",
       "  <tbody>\n",
       "    <tr>\n",
       "      <th>0</th>\n",
       "      <td>4333574</td>\n",
       "      <td>1</td>\n",
       "      <td>[primux omega 7 dual sim, mobile telephone pri...</td>\n",
       "      <td>[primux omega 7 dual sim]</td>\n",
       "      <td>[{'offerId': '102774_6671-mobile-telephone-pri...</td>\n",
       "      <td>[{'id': '25639', 'values': ['flash/light', 'au...</td>\n",
       "      <td>[08433735004678]</td>\n",
       "      <td>[]</td>\n",
       "      <td>{'mean': 154.0, 'median': 154.0, 'standardDevi...</td>\n",
       "    </tr>\n",
       "    <tr>\n",
       "      <th>1</th>\n",
       "      <td>5034558</td>\n",
       "      <td>1</td>\n",
       "      <td>[cubot j7 dual sim 16gb 2gb ram sort, cubot j7...</td>\n",
       "      <td>[cubot j7 16gb dual sim]</td>\n",
       "      <td>[{'offerId': '107077_KNA-TEL-704329', 'name': ...</td>\n",
       "      <td>[{'id': '25639', 'values': ['flash/light', 'au...</td>\n",
       "      <td>[06924136707005, 06924136707012, 06924136707029]</td>\n",
       "      <td>[]</td>\n",
       "      <td>{'mean': 84.95375, 'median': 88.67, 'standardD...</td>\n",
       "    </tr>\n",
       "    <tr>\n",
       "      <th>2</th>\n",
       "      <td>3223792</td>\n",
       "      <td>1</td>\n",
       "      <td>[zte blade v7 dual sim, zte blade v7 grey 5.2\"...</td>\n",
       "      <td>[zte blade v7 dual sim]</td>\n",
       "      <td>[{'offerId': '103116_1314758', 'name': 'zte bl...</td>\n",
       "      <td>[{'id': '25639', 'values': ['flash/light', 'au...</td>\n",
       "      <td>[]</td>\n",
       "      <td>[]</td>\n",
       "      <td>{'mean': 100.85, 'median': 100.85, 'standardDe...</td>\n",
       "    </tr>\n",
       "    <tr>\n",
       "      <th>3</th>\n",
       "      <td>3968527</td>\n",
       "      <td>1</td>\n",
       "      <td>[apple iphone 6 32gb - space grey, apple iphon...</td>\n",
       "      <td>[apple iphone 6 32gb]</td>\n",
       "      <td>[{'offerId': '58986_IN246', 'name': 'apple iph...</td>\n",
       "      <td>[{'id': '25639', 'values': ['optisk bildstabil...</td>\n",
       "      <td>[00190198429117, 00190198429308, 0019019842909...</td>\n",
       "      <td>[]</td>\n",
       "      <td>{'mean': 521.7725, 'median': 378.59, 'standard...</td>\n",
       "    </tr>\n",
       "    <tr>\n",
       "      <th>4</th>\n",
       "      <td>5020515</td>\n",
       "      <td>1</td>\n",
       "      <td>[mobile phone bv6100/grey blackview, blackview...</td>\n",
       "      <td>[blackview bv6100 16gb dual sim]</td>\n",
       "      <td>[{'offerId': '103631_9416-blackview-bv6100-3gb...</td>\n",
       "      <td>[{'id': '25639', 'values': ['flash/light', 'au...</td>\n",
       "      <td>[06931548305866]</td>\n",
       "      <td>[]</td>\n",
       "      <td>{'mean': 226.52666666666667, 'median': 210.9, ...</td>\n",
       "    </tr>\n",
       "    <tr>\n",
       "      <th>...</th>\n",
       "      <td>...</td>\n",
       "      <td>...</td>\n",
       "      <td>...</td>\n",
       "      <td>...</td>\n",
       "      <td>...</td>\n",
       "      <td>...</td>\n",
       "      <td>...</td>\n",
       "      <td>...</td>\n",
       "      <td>...</td>\n",
       "    </tr>\n",
       "    <tr>\n",
       "      <th>1882</th>\n",
       "      <td>4346306</td>\n",
       "      <td>1</td>\n",
       "      <td>[ulefone mix dual sim, ulefone mix 4g phablet,...</td>\n",
       "      <td>[ulefone mix dual sim]</td>\n",
       "      <td>[{'offerId': '70891_229068401', 'name': 'ulefo...</td>\n",
       "      <td>[{'id': '25639', 'values': ['flash/light', 'au...</td>\n",
       "      <td>[06937748731412]</td>\n",
       "      <td>[]</td>\n",
       "      <td>{'mean': 131.19, 'median': 93.68, 'standardDev...</td>\n",
       "    </tr>\n",
       "    <tr>\n",
       "      <th>1883</th>\n",
       "      <td>4282088</td>\n",
       "      <td>1</td>\n",
       "      <td>[elephone p8 mini 4g smartphone, elephone p8 m...</td>\n",
       "      <td>[elephone p8 mini dual sim]</td>\n",
       "      <td>[{'offerId': '70891_213230702', 'name': 'eleph...</td>\n",
       "      <td>[{'id': '25639', 'values': ['flash/light', 'au...</td>\n",
       "      <td>[00730060570075]</td>\n",
       "      <td>[]</td>\n",
       "      <td>{'mean': 196.17000000000002, 'median': 196.170...</td>\n",
       "    </tr>\n",
       "    <tr>\n",
       "      <th>1884</th>\n",
       "      <td>4497822</td>\n",
       "      <td>1</td>\n",
       "      <td>[xiaomi redmi 5a 16gb dual sim]</td>\n",
       "      <td>[xiaomi redmi 5a 16gb dual sim]</td>\n",
       "      <td>[]</td>\n",
       "      <td>[{'id': '25639', 'values': ['flash/light', 'au...</td>\n",
       "      <td>[06954176839343]</td>\n",
       "      <td>[]</td>\n",
       "      <td>None</td>\n",
       "    </tr>\n",
       "    <tr>\n",
       "      <th>1885</th>\n",
       "      <td>3495282</td>\n",
       "      <td>1</td>\n",
       "      <td>[cubot echo dual sim]</td>\n",
       "      <td>[cubot echo dual sim]</td>\n",
       "      <td>[]</td>\n",
       "      <td>[{'id': '3914', 'values': ['smartphone', 'vanl...</td>\n",
       "      <td>[]</td>\n",
       "      <td>[]</td>\n",
       "      <td>None</td>\n",
       "    </tr>\n",
       "    <tr>\n",
       "      <th>1886</th>\n",
       "      <td>4426601</td>\n",
       "      <td>1</td>\n",
       "      <td>[bluboo d2 dual sim]</td>\n",
       "      <td>[bluboo d2 dual sim]</td>\n",
       "      <td>[]</td>\n",
       "      <td>[{'id': '25639', 'values': ['optisk bildstabil...</td>\n",
       "      <td>[]</td>\n",
       "      <td>[]</td>\n",
       "      <td>None</td>\n",
       "    </tr>\n",
       "  </tbody>\n",
       "</table>\n",
       "<p>1887 rows × 9 columns</p>\n",
       "</div>"
      ],
      "text/plain": [
       "           id  categoryId                                      combinedNames  \\\n",
       "0     4333574           1  [primux omega 7 dual sim, mobile telephone pri...   \n",
       "1     5034558           1  [cubot j7 dual sim 16gb 2gb ram sort, cubot j7...   \n",
       "2     3223792           1  [zte blade v7 dual sim, zte blade v7 grey 5.2\"...   \n",
       "3     3968527           1  [apple iphone 6 32gb - space grey, apple iphon...   \n",
       "4     5020515           1  [mobile phone bv6100/grey blackview, blackview...   \n",
       "...       ...         ...                                                ...   \n",
       "1882  4346306           1  [ulefone mix dual sim, ulefone mix 4g phablet,...   \n",
       "1883  4282088           1  [elephone p8 mini 4g smartphone, elephone p8 m...   \n",
       "1884  4497822           1                    [xiaomi redmi 5a 16gb dual sim]   \n",
       "1885  3495282           1                              [cubot echo dual sim]   \n",
       "1886  4426601           1                               [bluboo d2 dual sim]   \n",
       "\n",
       "                          productNames  \\\n",
       "0            [primux omega 7 dual sim]   \n",
       "1             [cubot j7 16gb dual sim]   \n",
       "2              [zte blade v7 dual sim]   \n",
       "3                [apple iphone 6 32gb]   \n",
       "4     [blackview bv6100 16gb dual sim]   \n",
       "...                                ...   \n",
       "1882            [ulefone mix dual sim]   \n",
       "1883       [elephone p8 mini dual sim]   \n",
       "1884   [xiaomi redmi 5a 16gb dual sim]   \n",
       "1885             [cubot echo dual sim]   \n",
       "1886              [bluboo d2 dual sim]   \n",
       "\n",
       "                           positivelyVerifiedOfferNames  \\\n",
       "0     [{'offerId': '102774_6671-mobile-telephone-pri...   \n",
       "1     [{'offerId': '107077_KNA-TEL-704329', 'name': ...   \n",
       "2     [{'offerId': '103116_1314758', 'name': 'zte bl...   \n",
       "3     [{'offerId': '58986_IN246', 'name': 'apple iph...   \n",
       "4     [{'offerId': '103631_9416-blackview-bv6100-3gb...   \n",
       "...                                                 ...   \n",
       "1882  [{'offerId': '70891_229068401', 'name': 'ulefo...   \n",
       "1883  [{'offerId': '70891_213230702', 'name': 'eleph...   \n",
       "1884                                                 []   \n",
       "1885                                                 []   \n",
       "1886                                                 []   \n",
       "\n",
       "                                             attributes  \\\n",
       "0     [{'id': '25639', 'values': ['flash/light', 'au...   \n",
       "1     [{'id': '25639', 'values': ['flash/light', 'au...   \n",
       "2     [{'id': '25639', 'values': ['flash/light', 'au...   \n",
       "3     [{'id': '25639', 'values': ['optisk bildstabil...   \n",
       "4     [{'id': '25639', 'values': ['flash/light', 'au...   \n",
       "...                                                 ...   \n",
       "1882  [{'id': '25639', 'values': ['flash/light', 'au...   \n",
       "1883  [{'id': '25639', 'values': ['flash/light', 'au...   \n",
       "1884  [{'id': '25639', 'values': ['flash/light', 'au...   \n",
       "1885  [{'id': '3914', 'values': ['smartphone', 'vanl...   \n",
       "1886  [{'id': '25639', 'values': ['optisk bildstabil...   \n",
       "\n",
       "                                                 gtin14 isbn10  \\\n",
       "0                                      [08433735004678]     []   \n",
       "1      [06924136707005, 06924136707012, 06924136707029]     []   \n",
       "2                                                    []     []   \n",
       "3     [00190198429117, 00190198429308, 0019019842909...     []   \n",
       "4                                      [06931548305866]     []   \n",
       "...                                                 ...    ...   \n",
       "1882                                   [06937748731412]     []   \n",
       "1883                                   [00730060570075]     []   \n",
       "1884                                   [06954176839343]     []   \n",
       "1885                                                 []     []   \n",
       "1886                                                 []     []   \n",
       "\n",
       "                                      priceCalculations  \n",
       "0     {'mean': 154.0, 'median': 154.0, 'standardDevi...  \n",
       "1     {'mean': 84.95375, 'median': 88.67, 'standardD...  \n",
       "2     {'mean': 100.85, 'median': 100.85, 'standardDe...  \n",
       "3     {'mean': 521.7725, 'median': 378.59, 'standard...  \n",
       "4     {'mean': 226.52666666666667, 'median': 210.9, ...  \n",
       "...                                                 ...  \n",
       "1882  {'mean': 131.19, 'median': 93.68, 'standardDev...  \n",
       "1883  {'mean': 196.17000000000002, 'median': 196.170...  \n",
       "1884                                               None  \n",
       "1885                                               None  \n",
       "1886                                               None  \n",
       "\n",
       "[1887 rows x 9 columns]"
      ]
     },
     "execution_count": 8,
     "metadata": {},
     "output_type": "execute_result"
    }
   ],
   "source": [
    "df_products"
   ]
  },
  {
   "cell_type": "markdown",
   "id": "da7c488a-7d5f-4950-99e7-f8604d5a1f3d",
   "metadata": {},
   "source": [
    "Feature description and comments:\n",
    "* `id`: unique identifier for each database entry, this will be used as the classification target.\n",
    "* `categoryId`: always equal to 1 (corresponds to \"Mobiltelefoner\"). Not useful here.\n",
    "* `combinedNames`: lists of strings describing the product. This appears to be the union of the product names and all the associated offers (`positivelyVerifiedOfferNames`).\n",
    "* `productNames`: a list of names, can be more than one.\n",
    "* `positivelyVerifiedOfferNames`: these are the offers associated with these products, which I'll use to connect an offer to a product.\n",
    "* `attributes`: list of product attributes, each with an id, values and units.\n",
    "* `gtin14`: an id for the product (Global Trade Item Number). Some products in the dataset have more than one id, although it's rare.\n",
    "* `isbn10`: here always an empty list and does in any case not apply for this category.\n",
    "* `priceCalculations`: Price statistics for fot the associated offers (listed in `positivelyVerifiedOfferNames`)."
   ]
  },
  {
   "cell_type": "markdown",
   "id": "806074c4-06b9-4181-ae21-913de958d5e5",
   "metadata": {},
   "source": [
    "## Offers data"
   ]
  },
  {
   "cell_type": "code",
   "execution_count": 9,
   "id": "68abaaea-766e-4d92-8f5b-f4f872e67618",
   "metadata": {},
   "outputs": [
    {
     "data": {
      "text/html": [
       "<div>\n",
       "<style scoped>\n",
       "    .dataframe tbody tr th:only-of-type {\n",
       "        vertical-align: middle;\n",
       "    }\n",
       "\n",
       "    .dataframe tbody tr th {\n",
       "        vertical-align: top;\n",
       "    }\n",
       "\n",
       "    .dataframe thead th {\n",
       "        text-align: right;\n",
       "    }\n",
       "</style>\n",
       "<table border=\"1\" class=\"dataframe\">\n",
       "  <thead>\n",
       "    <tr style=\"text-align: right;\">\n",
       "      <th></th>\n",
       "      <th>offerId</th>\n",
       "      <th>name</th>\n",
       "      <th>description</th>\n",
       "      <th>gtin14</th>\n",
       "      <th>isbn10</th>\n",
       "      <th>priceAmount</th>\n",
       "      <th>lastUpdated</th>\n",
       "    </tr>\n",
       "  </thead>\n",
       "  <tbody>\n",
       "    <tr>\n",
       "      <th>0</th>\n",
       "      <td>106396_samsung-galaxy-a8s-g8870-128gb-6gbram-d...</td>\n",
       "      <td>samsung galaxy a8s g8870 128gb 6gb(ram) (dual ...</td>\n",
       "      <td>network technology gsm / hspa / lte body dimen...</td>\n",
       "      <td>NaN</td>\n",
       "      <td>NaN</td>\n",
       "      <td>534.98</td>\n",
       "      <td>2019-09-13T09:02:20.777+02:00</td>\n",
       "    </tr>\n",
       "    <tr>\n",
       "      <th>1</th>\n",
       "      <td>101551_15530-xiaomi-pocophone-f1-global-versio...</td>\n",
       "      <td>xiaomi pocophone f1 global version 6.18 inch 6...</td>\n",
       "      <td>None</td>\n",
       "      <td>NaN</td>\n",
       "      <td>NaN</td>\n",
       "      <td>309.99</td>\n",
       "      <td>2019-09-13T07:35:37.408+02:00</td>\n",
       "    </tr>\n",
       "    <tr>\n",
       "      <th>2</th>\n",
       "      <td>103035_sony-xperia-z3-plus-e6553-32gb-white</td>\n",
       "      <td>sony xperia z3 plus e6553 32gb (white)</td>\n",
       "      <td>productdesc sony xperia z3 plus rows what's in...</td>\n",
       "      <td>NaN</td>\n",
       "      <td>NaN</td>\n",
       "      <td>764.66</td>\n",
       "      <td>2019-09-13T09:00:06.164+02:00</td>\n",
       "    </tr>\n",
       "    <tr>\n",
       "      <th>3</th>\n",
       "      <td>99829_xiaomi-mi-a2-lite-64gb-dual-sim-unlocked...</td>\n",
       "      <td>xiaomi mi a2 lite 64gb dual sim / unlocked - b...</td>\n",
       "      <td>the xiaomi mi a2 lite is an unlocked dual sim ...</td>\n",
       "      <td>NaN</td>\n",
       "      <td>NaN</td>\n",
       "      <td>206.98</td>\n",
       "      <td>2019-09-13T05:49:35.296+02:00</td>\n",
       "    </tr>\n",
       "    <tr>\n",
       "      <th>4</th>\n",
       "      <td>100405_5717</td>\n",
       "      <td>xiaomi mi 9 6gb/128gb dual sim sim free/ unloc...</td>\n",
       "      <td>xiaomi mi 9 super-fast snapdragon™ 855with two...</td>\n",
       "      <td>6.941060e+12</td>\n",
       "      <td>NaN</td>\n",
       "      <td>389.99</td>\n",
       "      <td>2019-09-13T00:19:05.623+02:00</td>\n",
       "    </tr>\n",
       "    <tr>\n",
       "      <th>...</th>\n",
       "      <td>...</td>\n",
       "      <td>...</td>\n",
       "      <td>...</td>\n",
       "      <td>...</td>\n",
       "      <td>...</td>\n",
       "      <td>...</td>\n",
       "      <td>...</td>\n",
       "    </tr>\n",
       "    <tr>\n",
       "      <th>20002</th>\n",
       "      <td>2137_B07RYLXX71</td>\n",
       "      <td>samsung galaxy a10 dual-sim 32gb 6.2-inch hd+ ...</td>\n",
       "      <td>samsung galaxy a10 black</td>\n",
       "      <td>8.801644e+12</td>\n",
       "      <td>NaN</td>\n",
       "      <td>155.64</td>\n",
       "      <td>2019-09-13T04:27:32.433+02:00</td>\n",
       "    </tr>\n",
       "    <tr>\n",
       "      <th>20003</th>\n",
       "      <td>107077_KNA-TEL-704247</td>\n",
       "      <td>xiaomi redmi 7a 4g 16gb dual-sim morning blue</td>\n",
       "      <td>accelerometer, proximity, compass; fast batter...</td>\n",
       "      <td>6.941060e+12</td>\n",
       "      <td>NaN</td>\n",
       "      <td>105.36</td>\n",
       "      <td>2019-09-13T04:30:12.537+02:00</td>\n",
       "    </tr>\n",
       "    <tr>\n",
       "      <th>20004</th>\n",
       "      <td>105100_xiaomi-mi-a3-64gb-dual-sim-unlocked-blue</td>\n",
       "      <td>xiaomi mi a3 64gb dual sim / unlocked - blue</td>\n",
       "      <td>64gb internal storage, 4gb ram condition: new....</td>\n",
       "      <td>NaN</td>\n",
       "      <td>NaN</td>\n",
       "      <td>264.98</td>\n",
       "      <td>2019-09-13T03:30:55.726+02:00</td>\n",
       "    </tr>\n",
       "    <tr>\n",
       "      <th>20005</th>\n",
       "      <td>83959_3398500</td>\n",
       "      <td>nokia 216 dual sim - mobiltelefon - dual-sim -...</td>\n",
       "      <td>kurzinfo: nokia 216 dual sim - mobiltelefon - ...</td>\n",
       "      <td>6.438159e+12</td>\n",
       "      <td>NaN</td>\n",
       "      <td>53.91</td>\n",
       "      <td>2019-09-12T15:22:00.225+02:00</td>\n",
       "    </tr>\n",
       "    <tr>\n",
       "      <th>20006</th>\n",
       "      <td>7539_23417542679</td>\n",
       "      <td>samsung galaxy s10+ 128gb - prism white</td>\n",
       "      <td>the galaxy s10 features a large curved-edge sc...</td>\n",
       "      <td>NaN</td>\n",
       "      <td>NaN</td>\n",
       "      <td>1006.65</td>\n",
       "      <td>2019-09-13T06:55:03.620+02:00</td>\n",
       "    </tr>\n",
       "  </tbody>\n",
       "</table>\n",
       "<p>20007 rows × 7 columns</p>\n",
       "</div>"
      ],
      "text/plain": [
       "                                                 offerId  \\\n",
       "0      106396_samsung-galaxy-a8s-g8870-128gb-6gbram-d...   \n",
       "1      101551_15530-xiaomi-pocophone-f1-global-versio...   \n",
       "2            103035_sony-xperia-z3-plus-e6553-32gb-white   \n",
       "3      99829_xiaomi-mi-a2-lite-64gb-dual-sim-unlocked...   \n",
       "4                                            100405_5717   \n",
       "...                                                  ...   \n",
       "20002                                    2137_B07RYLXX71   \n",
       "20003                              107077_KNA-TEL-704247   \n",
       "20004    105100_xiaomi-mi-a3-64gb-dual-sim-unlocked-blue   \n",
       "20005                                      83959_3398500   \n",
       "20006                                   7539_23417542679   \n",
       "\n",
       "                                                    name  \\\n",
       "0      samsung galaxy a8s g8870 128gb 6gb(ram) (dual ...   \n",
       "1      xiaomi pocophone f1 global version 6.18 inch 6...   \n",
       "2                 sony xperia z3 plus e6553 32gb (white)   \n",
       "3      xiaomi mi a2 lite 64gb dual sim / unlocked - b...   \n",
       "4      xiaomi mi 9 6gb/128gb dual sim sim free/ unloc...   \n",
       "...                                                  ...   \n",
       "20002  samsung galaxy a10 dual-sim 32gb 6.2-inch hd+ ...   \n",
       "20003      xiaomi redmi 7a 4g 16gb dual-sim morning blue   \n",
       "20004       xiaomi mi a3 64gb dual sim / unlocked - blue   \n",
       "20005  nokia 216 dual sim - mobiltelefon - dual-sim -...   \n",
       "20006            samsung galaxy s10+ 128gb - prism white   \n",
       "\n",
       "                                             description        gtin14  \\\n",
       "0      network technology gsm / hspa / lte body dimen...           NaN   \n",
       "1                                                   None           NaN   \n",
       "2      productdesc sony xperia z3 plus rows what's in...           NaN   \n",
       "3      the xiaomi mi a2 lite is an unlocked dual sim ...           NaN   \n",
       "4      xiaomi mi 9 super-fast snapdragon™ 855with two...  6.941060e+12   \n",
       "...                                                  ...           ...   \n",
       "20002                           samsung galaxy a10 black  8.801644e+12   \n",
       "20003  accelerometer, proximity, compass; fast batter...  6.941060e+12   \n",
       "20004  64gb internal storage, 4gb ram condition: new....           NaN   \n",
       "20005  kurzinfo: nokia 216 dual sim - mobiltelefon - ...  6.438159e+12   \n",
       "20006  the galaxy s10 features a large curved-edge sc...           NaN   \n",
       "\n",
       "       isbn10  priceAmount                    lastUpdated  \n",
       "0         NaN       534.98  2019-09-13T09:02:20.777+02:00  \n",
       "1         NaN       309.99  2019-09-13T07:35:37.408+02:00  \n",
       "2         NaN       764.66  2019-09-13T09:00:06.164+02:00  \n",
       "3         NaN       206.98  2019-09-13T05:49:35.296+02:00  \n",
       "4         NaN       389.99  2019-09-13T00:19:05.623+02:00  \n",
       "...       ...          ...                            ...  \n",
       "20002     NaN       155.64  2019-09-13T04:27:32.433+02:00  \n",
       "20003     NaN       105.36  2019-09-13T04:30:12.537+02:00  \n",
       "20004     NaN       264.98  2019-09-13T03:30:55.726+02:00  \n",
       "20005     NaN        53.91  2019-09-12T15:22:00.225+02:00  \n",
       "20006     NaN      1006.65  2019-09-13T06:55:03.620+02:00  \n",
       "\n",
       "[20007 rows x 7 columns]"
      ]
     },
     "execution_count": 9,
     "metadata": {},
     "output_type": "execute_result"
    }
   ],
   "source": [
    "df_offers"
   ]
  },
  {
   "cell_type": "markdown",
   "id": "b3d8e228-bffc-41fd-b84b-ffc6cfca6ef7",
   "metadata": {},
   "source": [
    "Feature description and comments:\n",
    "* `offerId`: uniquely identifies an offer, merchant specific.\n",
    "* `name`: the name of the offer, which is often quite information-dense and specific for each product.\n",
    "* `description`: a description about the offer/product, usally some more lengthy or \"selling\" information about the product but many are `None` and also there are diferent languages (English, Spanish, German, etc). \n",
    "* `gtin14`: same variable as in the product database, although here it is often null.\n",
    "* `isbn10`: same as for the products.\n",
    "* `priceAmount`: the price for the product the offer is about. Competitors will through market forces provide similar offers for similar products and so this should be useful for matchint to the right product.  \n",
    "* `lastUpdated`: this doesn't say anything about the product the offer is about and I won't make use of it here."
   ]
  },
  {
   "cell_type": "code",
   "execution_count": 10,
   "id": "54eca7c8-2722-4758-a4e4-d87eca5da036",
   "metadata": {},
   "outputs": [
    {
     "data": {
      "text/plain": [
       "offerId            0\n",
       "name               0\n",
       "description     5848\n",
       "gtin14         11964\n",
       "isbn10         20007\n",
       "priceAmount        0\n",
       "lastUpdated        0\n",
       "dtype: int64"
      ]
     },
     "execution_count": 10,
     "metadata": {},
     "output_type": "execute_result"
    }
   ],
   "source": [
    "df_offers.isna().sum()"
   ]
  },
  {
   "cell_type": "markdown",
   "id": "a91c9a08-4237-4f99-b247-d2b44cca2fb3",
   "metadata": {},
   "source": [
    "Some observations about missing values:\n",
    "* ~29% of `descriptions` have `None` value. These can be replace by empty string.\n",
    "* All `isbn10` are NaN. This is not relevant for this category and can be dropped.\n",
    "* ~60% of `gtin14` is NaN. The remaining ones are large integer numbers."
   ]
  },
  {
   "cell_type": "markdown",
   "id": "77b4b5d9-a917-474f-8dc9-06ac8ca7e455",
   "metadata": {
    "tags": []
   },
   "source": [
    "## Other observations about the datasets\n",
    "To understand the data better I've performed some checks (not shown).\n",
    "The following statemtents seem to hold:\n",
    "\n",
    "* Some verifed offers (referred to in the product dataset) are not found in the offer dataset. \n",
    "* Sometimes the verified offer are not found in the offer dataset.\n",
    "* Some offers are not referred to by any product.\n",
    "* Some products refer to unknown offers.\n",
    "    * Sometimes offer ids are not known, even thought the name is known.\n",
    "    * Sometimes neither the offer id or the name is known.\n",
    "* Some products refer to no offers (empty list).\n",
    "* GTIN ids listed in product dataset are not always found in the offer dataset.\n",
    "* Offer ids are unique but offer names are not unique."
   ]
  },
  {
   "cell_type": "markdown",
   "id": "dece0acd-71a4-4690-b5d7-7be0c1a013b6",
   "metadata": {},
   "source": [
    "# Data prep"
   ]
  },
  {
   "cell_type": "markdown",
   "id": "516033c1-55aa-4907-987b-33826e92ea9f",
   "metadata": {},
   "source": [
    "## Encode target\n",
    "I use the internal product id as target, i.e. category labels. These are unique. Instead of the given id's I use consecutive integers."
   ]
  },
  {
   "cell_type": "code",
   "execution_count": 11,
   "id": "82e0b746-f0b0-407d-bfc0-13267c567691",
   "metadata": {},
   "outputs": [
    {
     "data": {
      "text/plain": [
       "LabelEncoder()"
      ]
     },
     "execution_count": 11,
     "metadata": {},
     "output_type": "execute_result"
    }
   ],
   "source": [
    "le = preprocessing.LabelEncoder()\n",
    "le.fit(df_products.id)"
   ]
  },
  {
   "cell_type": "code",
   "execution_count": 14,
   "id": "8f8af595-e57e-46c8-a783-63f50e82fc8a",
   "metadata": {},
   "outputs": [],
   "source": [
    "df_products['target'] = le.transform(df_products.id)"
   ]
  },
  {
   "cell_type": "code",
   "execution_count": 16,
   "id": "2ef2ffe9-8b9e-4181-b214-fd3a752c19f5",
   "metadata": {},
   "outputs": [
    {
     "data": {
      "text/plain": [
       "array([1027, 1881,  649, ..., 1184,  738, 1109])"
      ]
     },
     "execution_count": 16,
     "metadata": {},
     "output_type": "execute_result"
    }
   ],
   "source": [
    "df_products['target'].values"
   ]
  },
  {
   "cell_type": "markdown",
   "id": "d02b84a2-6b2a-4133-8fce-2232e7aad86b",
   "metadata": {
    "tags": []
   },
   "source": [
    "## Associate offers to products\n",
    "I use the product id in `df_products` as the prediction target based on features of each offer in `df_offer`.  Offers and features are  linked by the `positivelyVerifiedOfferNames`, which I take as the ground truth. Here, I map each offer to a target (product id) by expanding this dictionary and joining the two dataframes on the `offerId`. \n",
    "\n",
    "Note that this is not always possible, all products don't have offers, and I'll  drop those data points. This also means that some products are never \"seen\" by the model and so will/should never be matched to an offer. Clustering the products into subcategories could be one way that a more refined modeling approach could make sure that all products are connected to a set of offers.  "
   ]
  },
  {
   "cell_type": "code",
   "execution_count": 80,
   "id": "5d4773a3-3cad-4237-af84-312d6b77d40f",
   "metadata": {},
   "outputs": [],
   "source": [
    "# Flatten the product info by turning each associated offer into a new record/row.\n",
    "# Each row will now have a single dictionary item.\n",
    "df_products_flat = df_products.explode('positivelyVerifiedOfferNames')"
   ]
  },
  {
   "cell_type": "code",
   "execution_count": 81,
   "id": "98786e56-6a9c-41bb-88b0-70cb38c64478",
   "metadata": {},
   "outputs": [
    {
     "data": {
      "text/plain": [
       "{'offerId': '102774_6671-mobile-telephone-primux-omega-7-5-5-4g-16-gb-quad-core-8433735004678',\n",
       " 'name': 'mobile telephone primux omega 7 5.5\" 4g 16 gb quad core'}"
      ]
     },
     "execution_count": 81,
     "metadata": {},
     "output_type": "execute_result"
    }
   ],
   "source": [
    "df_products_flat['positivelyVerifiedOfferNames'].iloc[0]"
   ]
  },
  {
   "cell_type": "code",
   "execution_count": 82,
   "id": "9669122e-a49d-4393-93c8-cfc3d5edffec",
   "metadata": {},
   "outputs": [],
   "source": [
    "# Drop products that don't have positively verified offers (explode([]) --> NaN)\n",
    "df_products_flat = df_products_flat[~df_products_flat['positivelyVerifiedOfferNames'].isna()]"
   ]
  },
  {
   "cell_type": "code",
   "execution_count": 83,
   "id": "fdadd215-7f68-45fe-8d35-cf668dec5105",
   "metadata": {},
   "outputs": [],
   "source": [
    "# Replace `positivelyVerifiedOfferNames with `offerId` and `name` (key and value of the single-item dict).\n",
    "new_cols = pd.json_normalize(df_products_flat['positivelyVerifiedOfferNames']).set_index(df_products_flat.index.copy())\n",
    "df_products_flat = pd.concat([df_products_flat.drop(columns='positivelyVerifiedOfferNames'), new_cols], axis=1)"
   ]
  },
  {
   "cell_type": "code",
   "execution_count": 85,
   "id": "55f412ab-c37f-4157-9900-8b04e46527c0",
   "metadata": {},
   "outputs": [],
   "source": [
    "# Merge with offers\n",
    "df_merged = df_offers.merge(df_products_flat, on='offerId', how='inner', suffixes=('', '_y'))"
   ]
  },
  {
   "cell_type": "code",
   "execution_count": 88,
   "id": "26c32385-7656-440c-b52d-daf626dd7d17",
   "metadata": {},
   "outputs": [
    {
     "data": {
      "text/html": [
       "<div>\n",
       "<style scoped>\n",
       "    .dataframe tbody tr th:only-of-type {\n",
       "        vertical-align: middle;\n",
       "    }\n",
       "\n",
       "    .dataframe tbody tr th {\n",
       "        vertical-align: top;\n",
       "    }\n",
       "\n",
       "    .dataframe thead th {\n",
       "        text-align: right;\n",
       "    }\n",
       "</style>\n",
       "<table border=\"1\" class=\"dataframe\">\n",
       "  <thead>\n",
       "    <tr style=\"text-align: right;\">\n",
       "      <th></th>\n",
       "      <th>offerId</th>\n",
       "      <th>name</th>\n",
       "      <th>description</th>\n",
       "      <th>gtin14</th>\n",
       "      <th>isbn10</th>\n",
       "      <th>priceAmount</th>\n",
       "      <th>lastUpdated</th>\n",
       "      <th>id</th>\n",
       "      <th>categoryId</th>\n",
       "      <th>combinedNames</th>\n",
       "      <th>productNames</th>\n",
       "      <th>attributes</th>\n",
       "      <th>gtin14_y</th>\n",
       "      <th>isbn10_y</th>\n",
       "      <th>priceCalculations</th>\n",
       "      <th>target</th>\n",
       "      <th>name_y</th>\n",
       "    </tr>\n",
       "  </thead>\n",
       "  <tbody>\n",
       "    <tr>\n",
       "      <th>0</th>\n",
       "      <td>106396_samsung-galaxy-a8s-g8870-128gb-6gbram-d...</td>\n",
       "      <td>samsung galaxy a8s g8870 128gb 6gb(ram) (dual ...</td>\n",
       "      <td>network technology gsm / hspa / lte body dimen...</td>\n",
       "      <td>NaN</td>\n",
       "      <td>NaN</td>\n",
       "      <td>534.98</td>\n",
       "      <td>2019-09-13T09:02:20.777+02:00</td>\n",
       "      <td>4851556</td>\n",
       "      <td>1</td>\n",
       "      <td>[samsung galaxy a8s g8870 128gb 6gb(ram) (dual...</td>\n",
       "      <td>[samsung galaxy a8s 6gb ram 128gb dual sim]</td>\n",
       "      <td>[{'id': '25639', 'values': ['flash/light', 'au...</td>\n",
       "      <td>[08801643718763]</td>\n",
       "      <td>[]</td>\n",
       "      <td>{'mean': 464.014, 'median': 464.81, 'standardD...</td>\n",
       "      <td>1714</td>\n",
       "      <td>samsung galaxy a8s g8870 128gb 6gb(ram) (dual ...</td>\n",
       "    </tr>\n",
       "    <tr>\n",
       "      <th>1</th>\n",
       "      <td>101551_15530-xiaomi-pocophone-f1-global-versio...</td>\n",
       "      <td>xiaomi pocophone f1 global version 6.18 inch 6...</td>\n",
       "      <td>None</td>\n",
       "      <td>NaN</td>\n",
       "      <td>NaN</td>\n",
       "      <td>309.99</td>\n",
       "      <td>2019-09-13T07:35:37.408+02:00</td>\n",
       "      <td>4689772</td>\n",
       "      <td>1</td>\n",
       "      <td>[xiaomi pocophone f1 6gb/128gb dual sim sim fr...</td>\n",
       "      <td>[xiaomi pocophone f1 128gb dual sim]</td>\n",
       "      <td>[{'id': '25639', 'values': ['flash/light', 'au...</td>\n",
       "      <td>[06941059617648, 06941059607885, 0694105960787...</td>\n",
       "      <td>[]</td>\n",
       "      <td>{'mean': 362.30105263157895, 'median': 345.75,...</td>\n",
       "      <td>1446</td>\n",
       "      <td>xiaomi pocophone f1 global version 6.18 inch 6...</td>\n",
       "    </tr>\n",
       "    <tr>\n",
       "      <th>2</th>\n",
       "      <td>103035_sony-xperia-z3-plus-e6553-32gb-white</td>\n",
       "      <td>sony xperia z3 plus e6553 32gb (white)</td>\n",
       "      <td>productdesc sony xperia z3 plus rows what's in...</td>\n",
       "      <td>NaN</td>\n",
       "      <td>NaN</td>\n",
       "      <td>764.66</td>\n",
       "      <td>2019-09-13T09:00:06.164+02:00</td>\n",
       "      <td>3069514</td>\n",
       "      <td>1</td>\n",
       "      <td>[sony xperia z3 plus e6553 32gb (white), sony ...</td>\n",
       "      <td>[sony xperia z3+ 32gb]</td>\n",
       "      <td>[{'id': '5056', 'values': ['android'], 'units'...</td>\n",
       "      <td>[07311271523444, 07311271515128, 0731127152553...</td>\n",
       "      <td>[]</td>\n",
       "      <td>{'mean': 646.56, 'median': 764.66, 'standardDe...</td>\n",
       "      <td>459</td>\n",
       "      <td>sony xperia z3 plus e6553 32gb (white)</td>\n",
       "    </tr>\n",
       "    <tr>\n",
       "      <th>3</th>\n",
       "      <td>99829_xiaomi-mi-a2-lite-64gb-dual-sim-unlocked...</td>\n",
       "      <td>xiaomi mi a2 lite 64gb dual sim / unlocked - b...</td>\n",
       "      <td>the xiaomi mi a2 lite is an unlocked dual sim ...</td>\n",
       "      <td>NaN</td>\n",
       "      <td>NaN</td>\n",
       "      <td>206.98</td>\n",
       "      <td>2019-09-13T05:49:35.296+02:00</td>\n",
       "      <td>4675215</td>\n",
       "      <td>1</td>\n",
       "      <td>[xiaomi mi a2 lite 4/64gb lte /4g dual-sim and...</td>\n",
       "      <td>[xiaomi mi a2 lite 64gb dual sim]</td>\n",
       "      <td>[{'id': '25639', 'values': ['flash/light', 'au...</td>\n",
       "      <td>[07441319035001, 06941059608677, 0694105960865...</td>\n",
       "      <td>[]</td>\n",
       "      <td>{'mean': 185.87297872340426, 'median': 177.66,...</td>\n",
       "      <td>1398</td>\n",
       "      <td>xiaomi mi a2 lite 64gb dual sim / unlocked - b...</td>\n",
       "    </tr>\n",
       "    <tr>\n",
       "      <th>4</th>\n",
       "      <td>100405_5717</td>\n",
       "      <td>xiaomi mi 9 6gb/128gb dual sim sim free/ unloc...</td>\n",
       "      <td>xiaomi mi 9 super-fast snapdragon™ 855with two...</td>\n",
       "      <td>6.941060e+12</td>\n",
       "      <td>NaN</td>\n",
       "      <td>389.99</td>\n",
       "      <td>2019-09-13T00:19:05.623+02:00</td>\n",
       "      <td>4852906</td>\n",
       "      <td>1</td>\n",
       "      <td>[xiaomi mi 9 4g 128gb dual sim negro, xiaomi m...</td>\n",
       "      <td>[xiaomi mi 9 6gb ram 128gb dual sim]</td>\n",
       "      <td>[{'id': '25639', 'values': ['flash/light', 'au...</td>\n",
       "      <td>[06941059621348, 06941059619420, 0694105961947...</td>\n",
       "      <td>[]</td>\n",
       "      <td>{'mean': 484.1327027027027, 'median': 487.665,...</td>\n",
       "      <td>1720</td>\n",
       "      <td>xiaomi mi 9 6gb/128gb dual sim sim free/ unloc...</td>\n",
       "    </tr>\n",
       "    <tr>\n",
       "      <th>...</th>\n",
       "      <td>...</td>\n",
       "      <td>...</td>\n",
       "      <td>...</td>\n",
       "      <td>...</td>\n",
       "      <td>...</td>\n",
       "      <td>...</td>\n",
       "      <td>...</td>\n",
       "      <td>...</td>\n",
       "      <td>...</td>\n",
       "      <td>...</td>\n",
       "      <td>...</td>\n",
       "      <td>...</td>\n",
       "      <td>...</td>\n",
       "      <td>...</td>\n",
       "      <td>...</td>\n",
       "      <td>...</td>\n",
       "      <td>...</td>\n",
       "    </tr>\n",
       "    <tr>\n",
       "      <th>17988</th>\n",
       "      <td>2137_B07RYLXX71</td>\n",
       "      <td>samsung galaxy a10 dual-sim 32gb 6.2-inch hd+ ...</td>\n",
       "      <td>samsung galaxy a10 black</td>\n",
       "      <td>8.801644e+12</td>\n",
       "      <td>NaN</td>\n",
       "      <td>155.64</td>\n",
       "      <td>2019-09-13T04:27:32.433+02:00</td>\n",
       "      <td>4889492</td>\n",
       "      <td>1</td>\n",
       "      <td>[samsung galaxy a10 sm-a105 dual blue, samsung...</td>\n",
       "      <td>[samsung galaxy a10 32gb dual sim]</td>\n",
       "      <td>[{'id': '25639', 'values': ['flash/light'], 'u...</td>\n",
       "      <td>[08806090016561, 08801643996642, 0571276401827...</td>\n",
       "      <td>[]</td>\n",
       "      <td>{'mean': 175.64909090909092, 'median': 169.77,...</td>\n",
       "      <td>1766</td>\n",
       "      <td>samsung galaxy a10 dual-sim 32gb 6.2-inch hd+ ...</td>\n",
       "    </tr>\n",
       "    <tr>\n",
       "      <th>17989</th>\n",
       "      <td>107077_KNA-TEL-704247</td>\n",
       "      <td>xiaomi redmi 7a 4g 16gb dual-sim morning blue</td>\n",
       "      <td>accelerometer, proximity, compass; fast batter...</td>\n",
       "      <td>6.941060e+12</td>\n",
       "      <td>NaN</td>\n",
       "      <td>105.36</td>\n",
       "      <td>2019-09-13T04:30:12.537+02:00</td>\n",
       "      <td>4973455</td>\n",
       "      <td>1</td>\n",
       "      <td>[mobile phone redmi 7a 16gb/matte blue mzb7805...</td>\n",
       "      <td>[xiaomi redmi 7a 16gb dual sim]</td>\n",
       "      <td>[{'id': '25639', 'values': ['flash/light', 'au...</td>\n",
       "      <td>[06941059625612, 06941059625629, 06941059625926]</td>\n",
       "      <td>[]</td>\n",
       "      <td>{'mean': 105.5075, 'median': 105.03, 'standard...</td>\n",
       "      <td>1833</td>\n",
       "      <td>xiaomi redmi 7a 4g 16gb dual-sim morning blue</td>\n",
       "    </tr>\n",
       "    <tr>\n",
       "      <th>17990</th>\n",
       "      <td>105100_xiaomi-mi-a3-64gb-dual-sim-unlocked-blue</td>\n",
       "      <td>xiaomi mi a3 64gb dual sim / unlocked - blue</td>\n",
       "      <td>64gb internal storage, 4gb ram condition: new....</td>\n",
       "      <td>NaN</td>\n",
       "      <td>NaN</td>\n",
       "      <td>264.98</td>\n",
       "      <td>2019-09-13T03:30:55.726+02:00</td>\n",
       "      <td>4996801</td>\n",
       "      <td>1</td>\n",
       "      <td>[xiaomi mi a3 dual sim 64gb 4gb ram blue, xiao...</td>\n",
       "      <td>[xiaomi mi a3 64gb dual sim]</td>\n",
       "      <td>[{'id': '25639', 'values': ['optisk bildstabil...</td>\n",
       "      <td>[00649615757086, 06941059626329, 0694105962633...</td>\n",
       "      <td>[]</td>\n",
       "      <td>{'mean': 222.0964285714286, 'median': 218.3, '...</td>\n",
       "      <td>1847</td>\n",
       "      <td>xiaomi mi a3 64gb dual sim / unlocked - blue</td>\n",
       "    </tr>\n",
       "    <tr>\n",
       "      <th>17991</th>\n",
       "      <td>83959_3398500</td>\n",
       "      <td>nokia 216 dual sim - mobiltelefon - dual-sim -...</td>\n",
       "      <td>kurzinfo: nokia 216 dual sim - mobiltelefon - ...</td>\n",
       "      <td>6.438159e+12</td>\n",
       "      <td>NaN</td>\n",
       "      <td>53.91</td>\n",
       "      <td>2019-09-12T15:22:00.225+02:00</td>\n",
       "      <td>3663405</td>\n",
       "      <td>1</td>\n",
       "      <td>[nokia 216 dual-sim 6.1 cm (2.4\") 82.6 g blue ...</td>\n",
       "      <td>[nokia 216 dual sim]</td>\n",
       "      <td>[{'id': '25639', 'values': ['flash/light'], 'u...</td>\n",
       "      <td>[06438158762169, 06438158762596, 0643815876419...</td>\n",
       "      <td>[]</td>\n",
       "      <td>{'mean': 51.86682926829268, 'median': 49.08, '...</td>\n",
       "      <td>758</td>\n",
       "      <td>nokia 216 dual sim - mobiltelefon - dual-sim -...</td>\n",
       "    </tr>\n",
       "    <tr>\n",
       "      <th>17992</th>\n",
       "      <td>7539_23417542679</td>\n",
       "      <td>samsung galaxy s10+ 128gb - prism white</td>\n",
       "      <td>the galaxy s10 features a large curved-edge sc...</td>\n",
       "      <td>NaN</td>\n",
       "      <td>NaN</td>\n",
       "      <td>1006.65</td>\n",
       "      <td>2019-09-13T06:55:03.620+02:00</td>\n",
       "      <td>4769308</td>\n",
       "      <td>1</td>\n",
       "      <td>[samsung galaxy s10+ 128gb phone - prism white...</td>\n",
       "      <td>[samsung galaxy s10+ 128gb]</td>\n",
       "      <td>[{'id': '25639', 'values': ['optisk bildstabil...</td>\n",
       "      <td>[08806090013683, 08801643682606, 0880164376175...</td>\n",
       "      <td>[]</td>\n",
       "      <td>{'mean': 964.5411931818181, 'median': 947.685,...</td>\n",
       "      <td>1576</td>\n",
       "      <td>samsung galaxy s10+ 128gb - prism white</td>\n",
       "    </tr>\n",
       "  </tbody>\n",
       "</table>\n",
       "<p>17993 rows × 17 columns</p>\n",
       "</div>"
      ],
      "text/plain": [
       "                                                 offerId  \\\n",
       "0      106396_samsung-galaxy-a8s-g8870-128gb-6gbram-d...   \n",
       "1      101551_15530-xiaomi-pocophone-f1-global-versio...   \n",
       "2            103035_sony-xperia-z3-plus-e6553-32gb-white   \n",
       "3      99829_xiaomi-mi-a2-lite-64gb-dual-sim-unlocked...   \n",
       "4                                            100405_5717   \n",
       "...                                                  ...   \n",
       "17988                                    2137_B07RYLXX71   \n",
       "17989                              107077_KNA-TEL-704247   \n",
       "17990    105100_xiaomi-mi-a3-64gb-dual-sim-unlocked-blue   \n",
       "17991                                      83959_3398500   \n",
       "17992                                   7539_23417542679   \n",
       "\n",
       "                                                    name  \\\n",
       "0      samsung galaxy a8s g8870 128gb 6gb(ram) (dual ...   \n",
       "1      xiaomi pocophone f1 global version 6.18 inch 6...   \n",
       "2                 sony xperia z3 plus e6553 32gb (white)   \n",
       "3      xiaomi mi a2 lite 64gb dual sim / unlocked - b...   \n",
       "4      xiaomi mi 9 6gb/128gb dual sim sim free/ unloc...   \n",
       "...                                                  ...   \n",
       "17988  samsung galaxy a10 dual-sim 32gb 6.2-inch hd+ ...   \n",
       "17989      xiaomi redmi 7a 4g 16gb dual-sim morning blue   \n",
       "17990       xiaomi mi a3 64gb dual sim / unlocked - blue   \n",
       "17991  nokia 216 dual sim - mobiltelefon - dual-sim -...   \n",
       "17992            samsung galaxy s10+ 128gb - prism white   \n",
       "\n",
       "                                             description        gtin14  \\\n",
       "0      network technology gsm / hspa / lte body dimen...           NaN   \n",
       "1                                                   None           NaN   \n",
       "2      productdesc sony xperia z3 plus rows what's in...           NaN   \n",
       "3      the xiaomi mi a2 lite is an unlocked dual sim ...           NaN   \n",
       "4      xiaomi mi 9 super-fast snapdragon™ 855with two...  6.941060e+12   \n",
       "...                                                  ...           ...   \n",
       "17988                           samsung galaxy a10 black  8.801644e+12   \n",
       "17989  accelerometer, proximity, compass; fast batter...  6.941060e+12   \n",
       "17990  64gb internal storage, 4gb ram condition: new....           NaN   \n",
       "17991  kurzinfo: nokia 216 dual sim - mobiltelefon - ...  6.438159e+12   \n",
       "17992  the galaxy s10 features a large curved-edge sc...           NaN   \n",
       "\n",
       "       isbn10  priceAmount                    lastUpdated       id  \\\n",
       "0         NaN       534.98  2019-09-13T09:02:20.777+02:00  4851556   \n",
       "1         NaN       309.99  2019-09-13T07:35:37.408+02:00  4689772   \n",
       "2         NaN       764.66  2019-09-13T09:00:06.164+02:00  3069514   \n",
       "3         NaN       206.98  2019-09-13T05:49:35.296+02:00  4675215   \n",
       "4         NaN       389.99  2019-09-13T00:19:05.623+02:00  4852906   \n",
       "...       ...          ...                            ...      ...   \n",
       "17988     NaN       155.64  2019-09-13T04:27:32.433+02:00  4889492   \n",
       "17989     NaN       105.36  2019-09-13T04:30:12.537+02:00  4973455   \n",
       "17990     NaN       264.98  2019-09-13T03:30:55.726+02:00  4996801   \n",
       "17991     NaN        53.91  2019-09-12T15:22:00.225+02:00  3663405   \n",
       "17992     NaN      1006.65  2019-09-13T06:55:03.620+02:00  4769308   \n",
       "\n",
       "       categoryId                                      combinedNames  \\\n",
       "0               1  [samsung galaxy a8s g8870 128gb 6gb(ram) (dual...   \n",
       "1               1  [xiaomi pocophone f1 6gb/128gb dual sim sim fr...   \n",
       "2               1  [sony xperia z3 plus e6553 32gb (white), sony ...   \n",
       "3               1  [xiaomi mi a2 lite 4/64gb lte /4g dual-sim and...   \n",
       "4               1  [xiaomi mi 9 4g 128gb dual sim negro, xiaomi m...   \n",
       "...           ...                                                ...   \n",
       "17988           1  [samsung galaxy a10 sm-a105 dual blue, samsung...   \n",
       "17989           1  [mobile phone redmi 7a 16gb/matte blue mzb7805...   \n",
       "17990           1  [xiaomi mi a3 dual sim 64gb 4gb ram blue, xiao...   \n",
       "17991           1  [nokia 216 dual-sim 6.1 cm (2.4\") 82.6 g blue ...   \n",
       "17992           1  [samsung galaxy s10+ 128gb phone - prism white...   \n",
       "\n",
       "                                      productNames  \\\n",
       "0      [samsung galaxy a8s 6gb ram 128gb dual sim]   \n",
       "1             [xiaomi pocophone f1 128gb dual sim]   \n",
       "2                           [sony xperia z3+ 32gb]   \n",
       "3                [xiaomi mi a2 lite 64gb dual sim]   \n",
       "4             [xiaomi mi 9 6gb ram 128gb dual sim]   \n",
       "...                                            ...   \n",
       "17988           [samsung galaxy a10 32gb dual sim]   \n",
       "17989              [xiaomi redmi 7a 16gb dual sim]   \n",
       "17990                 [xiaomi mi a3 64gb dual sim]   \n",
       "17991                         [nokia 216 dual sim]   \n",
       "17992                  [samsung galaxy s10+ 128gb]   \n",
       "\n",
       "                                              attributes  \\\n",
       "0      [{'id': '25639', 'values': ['flash/light', 'au...   \n",
       "1      [{'id': '25639', 'values': ['flash/light', 'au...   \n",
       "2      [{'id': '5056', 'values': ['android'], 'units'...   \n",
       "3      [{'id': '25639', 'values': ['flash/light', 'au...   \n",
       "4      [{'id': '25639', 'values': ['flash/light', 'au...   \n",
       "...                                                  ...   \n",
       "17988  [{'id': '25639', 'values': ['flash/light'], 'u...   \n",
       "17989  [{'id': '25639', 'values': ['flash/light', 'au...   \n",
       "17990  [{'id': '25639', 'values': ['optisk bildstabil...   \n",
       "17991  [{'id': '25639', 'values': ['flash/light'], 'u...   \n",
       "17992  [{'id': '25639', 'values': ['optisk bildstabil...   \n",
       "\n",
       "                                                gtin14_y isbn10_y  \\\n",
       "0                                       [08801643718763]       []   \n",
       "1      [06941059617648, 06941059607885, 0694105960787...       []   \n",
       "2      [07311271523444, 07311271515128, 0731127152553...       []   \n",
       "3      [07441319035001, 06941059608677, 0694105960865...       []   \n",
       "4      [06941059621348, 06941059619420, 0694105961947...       []   \n",
       "...                                                  ...      ...   \n",
       "17988  [08806090016561, 08801643996642, 0571276401827...       []   \n",
       "17989   [06941059625612, 06941059625629, 06941059625926]       []   \n",
       "17990  [00649615757086, 06941059626329, 0694105962633...       []   \n",
       "17991  [06438158762169, 06438158762596, 0643815876419...       []   \n",
       "17992  [08806090013683, 08801643682606, 0880164376175...       []   \n",
       "\n",
       "                                       priceCalculations  target  \\\n",
       "0      {'mean': 464.014, 'median': 464.81, 'standardD...    1714   \n",
       "1      {'mean': 362.30105263157895, 'median': 345.75,...    1446   \n",
       "2      {'mean': 646.56, 'median': 764.66, 'standardDe...     459   \n",
       "3      {'mean': 185.87297872340426, 'median': 177.66,...    1398   \n",
       "4      {'mean': 484.1327027027027, 'median': 487.665,...    1720   \n",
       "...                                                  ...     ...   \n",
       "17988  {'mean': 175.64909090909092, 'median': 169.77,...    1766   \n",
       "17989  {'mean': 105.5075, 'median': 105.03, 'standard...    1833   \n",
       "17990  {'mean': 222.0964285714286, 'median': 218.3, '...    1847   \n",
       "17991  {'mean': 51.86682926829268, 'median': 49.08, '...     758   \n",
       "17992  {'mean': 964.5411931818181, 'median': 947.685,...    1576   \n",
       "\n",
       "                                                  name_y  \n",
       "0      samsung galaxy a8s g8870 128gb 6gb(ram) (dual ...  \n",
       "1      xiaomi pocophone f1 global version 6.18 inch 6...  \n",
       "2                 sony xperia z3 plus e6553 32gb (white)  \n",
       "3      xiaomi mi a2 lite 64gb dual sim / unlocked - b...  \n",
       "4      xiaomi mi 9 6gb/128gb dual sim sim free/ unloc...  \n",
       "...                                                  ...  \n",
       "17988  samsung galaxy a10 dual-sim 32gb 6.2-inch hd+ ...  \n",
       "17989      xiaomi redmi 7a 4g 16gb dual-sim morning blue  \n",
       "17990       xiaomi mi a3 64gb dual sim / unlocked - blue  \n",
       "17991  nokia 216 dual sim - mobiltelefon - dual-sim -...  \n",
       "17992            samsung galaxy s10+ 128gb - prism white  \n",
       "\n",
       "[17993 rows x 17 columns]"
      ]
     },
     "execution_count": 88,
     "metadata": {},
     "output_type": "execute_result"
    }
   ],
   "source": [
    "df_merged"
   ]
  },
  {
   "cell_type": "markdown",
   "id": "2277586f-f9e1-4a1d-85de-50051a50a168",
   "metadata": {},
   "source": [
    "Two things to note: \n",
    "* Some products map to the same offer, meaning that the offer cannot be mapped uniquely to a single product. This is not a big problem, it can be seen as noise. Here, I'll consider this as multiple data points (one per product to offer connection).\n",
    "* Some offers are not mapped to by any product, offers with name *xiaomi mi band 3*. This means that either 1) the product is missing in the database which should be update or 2) the product is in the database but is not \"positively verified\". Here, these datapoints were dropped since I used the using \"inner\"-type join operator when merging the dataframes."
   ]
  },
  {
   "cell_type": "markdown",
   "id": "3b045f15-04f5-46d7-916b-d37db0fe2ef2",
   "metadata": {},
   "source": [
    "The first point can be seen verified by checking the non-uniqueness of the `offerId` values:"
   ]
  },
  {
   "cell_type": "code",
   "execution_count": 177,
   "id": "8484e2cb-b180-46fa-854f-78adcceec2dd",
   "metadata": {},
   "outputs": [
    {
     "data": {
      "text/plain": [
       "535_0007753824-00000001                                                                    2\n",
       "79225_51093RTS                                                                             2\n",
       "84301_samsung-galaxy-s9-enterprise-edition-mobiltelefon-64-gb-schwarz-14-7-cm-p-1985967    2\n",
       "83959_4139207                                                                              2\n",
       "15001_5011126745                                                                           2\n",
       "                                                                                          ..\n",
       "35066_YP520                                                                                1\n",
       "74931_B07NQVY729                                                                           1\n",
       "40076_2791812                                                                              1\n",
       "107077_KNA-TEL-703925                                                                      1\n",
       "7539_23417542679                                                                           1\n",
       "Name: offerId, Length: 17939, dtype: int64"
      ]
     },
     "execution_count": 177,
     "metadata": {},
     "output_type": "execute_result"
    }
   ],
   "source": [
    "df_merged['offerId'].value_counts()"
   ]
  },
  {
   "cell_type": "markdown",
   "id": "9e33c9fb-a8cd-4f73-a914-69e398d92f7b",
   "metadata": {
    "tags": []
   },
   "source": [
    "## Train test split check\n",
    "For the multi-class modeling it's relevant how the different classes (product ids) are divided between the training and the test set. Since there are many classes with few samples per class, I expect this potentially be an issue."
   ]
  },
  {
   "cell_type": "code",
   "execution_count": 134,
   "id": "a8633fe2-4a18-47b6-8206-3e0505219860",
   "metadata": {},
   "outputs": [],
   "source": [
    "X = df_merged\n",
    "y = df_merged['target']"
   ]
  },
  {
   "cell_type": "code",
   "execution_count": 135,
   "id": "73c74dd6-c34e-4548-97d9-ef3a9696c936",
   "metadata": {},
   "outputs": [],
   "source": [
    "# 30% test is chosen arbitrarily here. \n",
    "split_args = dict(test_size=0.3, random_state=0)\n",
    "X_train, X_test, y_train, y_test = train_test_split(X, y, **split_args)"
   ]
  },
  {
   "cell_type": "code",
   "execution_count": 136,
   "id": "2413f726-cde3-49a5-b1a7-ad2ee18aede2",
   "metadata": {},
   "outputs": [
    {
     "data": {
      "text/plain": [
       "1115"
      ]
     },
     "execution_count": 136,
     "metadata": {},
     "output_type": "execute_result"
    }
   ],
   "source": [
    "# Number of categories in train, test data\n",
    "len(set(y))"
   ]
  },
  {
   "cell_type": "code",
   "execution_count": 106,
   "id": "f9df7790-217d-40b2-b58b-4b5e6f2de719",
   "metadata": {},
   "outputs": [
    {
     "data": {
      "text/plain": [
       "(12595, 1039)"
      ]
     },
     "execution_count": 106,
     "metadata": {},
     "output_type": "execute_result"
    }
   ],
   "source": [
    "# Number of train samples and number of categories in data\n",
    "len(y_train), len(set(y_train))"
   ]
  },
  {
   "cell_type": "code",
   "execution_count": 107,
   "id": "8fb14a60-4877-481c-bd01-efeb2d43c1e1",
   "metadata": {},
   "outputs": [
    {
     "data": {
      "text/plain": [
       "(5398, 796)"
      ]
     },
     "execution_count": 107,
     "metadata": {},
     "output_type": "execute_result"
    }
   ],
   "source": [
    "# Number of test samples and number of categories in data\n",
    "len(y_test), len(set(y_test))"
   ]
  },
  {
   "cell_type": "code",
   "execution_count": 108,
   "id": "24620067-7d70-4302-98be-ee77026de83e",
   "metadata": {},
   "outputs": [
    {
     "data": {
      "text/plain": [
       "720"
      ]
     },
     "execution_count": 108,
     "metadata": {},
     "output_type": "execute_result"
    }
   ],
   "source": [
    "# Number of products that are both in train and test set\n",
    "len(set.intersection(set(y_test), set(y_train)))"
   ]
  },
  {
   "cell_type": "code",
   "execution_count": 109,
   "id": "787fcf2b-8c9b-4300-b0ad-fe936acd124e",
   "metadata": {},
   "outputs": [
    {
     "data": {
      "text/plain": [
       "76"
      ]
     },
     "execution_count": 109,
     "metadata": {},
     "output_type": "execute_result"
    }
   ],
   "source": [
    "# Number of products that are in test set but not in train set\n",
    "len(set.intersection(set(y_test) - set(y_train)))"
   ]
  },
  {
   "cell_type": "code",
   "execution_count": 110,
   "id": "0fbd5cc4-6949-499a-a141-3280aab3d23a",
   "metadata": {},
   "outputs": [
    {
     "data": {
      "text/plain": [
       "319"
      ]
     },
     "execution_count": 110,
     "metadata": {},
     "output_type": "execute_result"
    }
   ],
   "source": [
    "# Number of products that are in train set but not tested\n",
    "len(set.intersection(set(y_train) - set(y_test)))"
   ]
  },
  {
   "cell_type": "markdown",
   "id": "1bc7be2f-6ce6-4884-8b0b-fb449fbe77e2",
   "metadata": {},
   "source": [
    "Based on the above checks we see that there are definitely problematic cases where a product is only in the test or train set. There are 1115 final products/classes.\n",
    "* 76 classes are only in the test set (7%)\n",
    "* 319 classes are only in the training set (29%)\n",
    "* 720 classes are in both test and training (65%)\n",
    "\n",
    "The fact that 29% of classes are not represented in the test set is pretty bad. This could give an unfair view on the model performance. Nonetheless, *most* classes are represented both in the test and the training and we carry on, at least to get a first baseline model to improve on."
   ]
  },
  {
   "cell_type": "markdown",
   "id": "6d99dccf-64e8-4e6a-9035-388dbc44a71a",
   "metadata": {},
   "source": [
    "## Conversions and imputations"
   ]
  },
  {
   "cell_type": "code",
   "execution_count": 117,
   "id": "a358ec87-0b67-4eef-bc0b-9ef1a325a694",
   "metadata": {},
   "outputs": [],
   "source": [
    "# String types\n",
    "for col in 'name', 'description':\n",
    "    df_merged[col] = df_merged[col].astype('string')"
   ]
  },
  {
   "cell_type": "code",
   "execution_count": 118,
   "id": "0a7f429c-ef81-4b0b-81ff-fe5f8839d16b",
   "metadata": {},
   "outputs": [],
   "source": [
    "# Replace `None` with empty string\n",
    "df_merged['description'].fillna('', inplace=True)"
   ]
  },
  {
   "cell_type": "markdown",
   "id": "081677ec-feb1-41d2-acf0-37a545b5533c",
   "metadata": {
    "tags": []
   },
   "source": [
    "# Model and hyperparameter search\n",
    "Here I search over models, the model hyperparameters and different input features."
   ]
  },
  {
   "cell_type": "markdown",
   "id": "0002bb2f-93b1-4a89-8714-6e38aa07146c",
   "metadata": {},
   "source": [
    "## Cross-validation config"
   ]
  },
  {
   "cell_type": "code",
   "execution_count": 119,
   "id": "2d1bb5c7-8731-4dd2-9967-e37aa8eb4f7e",
   "metadata": {},
   "outputs": [],
   "source": [
    "# Cross-validation config\n",
    "n_splits = 5\n",
    "cv = KFold(n_splits=n_splits, shuffle=True, random_state=0)"
   ]
  },
  {
   "cell_type": "code",
   "execution_count": 120,
   "id": "5b67487d-82f6-486e-831f-f4d5370481e5",
   "metadata": {},
   "outputs": [],
   "source": [
    "scoring = 'accuracy'\n",
    "assert scoring in sklearn.metrics.SCORERS.keys()"
   ]
  },
  {
   "cell_type": "markdown",
   "id": "a419132c-78f2-4816-9d42-2c30928ef295",
   "metadata": {},
   "source": [
    "## Vary models\n",
    "I consider 3 different classification models:\n",
    "* K-nearest neighbors\n",
    "* Multinomial Naive Bayes\n",
    "* Linear SVM\n",
    "\n",
    "and vary hyperparameters."
   ]
  },
  {
   "cell_type": "code",
   "execution_count": 121,
   "id": "6ca24b42-6892-4e4a-956c-4dfd6b0323cf",
   "metadata": {},
   "outputs": [],
   "source": [
    "models = {\n",
    "    'knn': KNeighborsClassifier,\n",
    "    'naive-bayes': MultinomialNB, \n",
    "    'linear-svm': SGDClassifier,\n",
    "}\n",
    "# Fixed params\n",
    "params_fixed = {\n",
    "    'knn' : dict(),\n",
    "    # Note: loss = 'log' would give logistic regression\n",
    "    'linear-svm': dict(random_state=0, loss='hinge', max_iter=10, tol=None), \n",
    "    'naive-bayes': dict()\n",
    "}\n",
    "# Params to sample\n",
    "params = {\n",
    "    'linear-svm': {'penalty': ('l1', 'l2'),\n",
    "            'alpha':  loguniform(1e-4, 1e-1),\n",
    "            'class_weight': (None, 'balanced')},\n",
    "    'knn': {'n_neighbors': randint(1,50),\n",
    "            'weights': ('uniform', 'distance')},\n",
    "    'naive-bayes': {'alpha':  loguniform(1e-2, 1e1)}\n",
    "}"
   ]
  },
  {
   "cell_type": "code",
   "execution_count": 131,
   "id": "48f35c9f-4d5f-4c09-84b2-449cbab3034f",
   "metadata": {},
   "outputs": [
    {
     "data": {
      "text/html": [
       "<div>\n",
       "<style scoped>\n",
       "    .dataframe tbody tr th:only-of-type {\n",
       "        vertical-align: middle;\n",
       "    }\n",
       "\n",
       "    .dataframe tbody tr th {\n",
       "        vertical-align: top;\n",
       "    }\n",
       "\n",
       "    .dataframe thead th {\n",
       "        text-align: right;\n",
       "    }\n",
       "</style>\n",
       "<table border=\"1\" class=\"dataframe\">\n",
       "  <thead>\n",
       "    <tr style=\"text-align: right;\">\n",
       "      <th></th>\n",
       "      <th>name</th>\n",
       "    </tr>\n",
       "  </thead>\n",
       "  <tbody>\n",
       "    <tr>\n",
       "      <th>0</th>\n",
       "      <td>samsung galaxy a8s g8870 128gb 6gb(ram) (dual ...</td>\n",
       "    </tr>\n",
       "    <tr>\n",
       "      <th>1</th>\n",
       "      <td>xiaomi pocophone f1 global version 6.18 inch 6...</td>\n",
       "    </tr>\n",
       "    <tr>\n",
       "      <th>2</th>\n",
       "      <td>sony xperia z3 plus e6553 32gb (white)</td>\n",
       "    </tr>\n",
       "    <tr>\n",
       "      <th>3</th>\n",
       "      <td>xiaomi mi a2 lite 64gb dual sim / unlocked - b...</td>\n",
       "    </tr>\n",
       "    <tr>\n",
       "      <th>4</th>\n",
       "      <td>xiaomi mi 9 6gb/128gb dual sim sim free/ unloc...</td>\n",
       "    </tr>\n",
       "    <tr>\n",
       "      <th>...</th>\n",
       "      <td>...</td>\n",
       "    </tr>\n",
       "    <tr>\n",
       "      <th>17988</th>\n",
       "      <td>samsung galaxy a10 dual-sim 32gb 6.2-inch hd+ ...</td>\n",
       "    </tr>\n",
       "    <tr>\n",
       "      <th>17989</th>\n",
       "      <td>xiaomi redmi 7a 4g 16gb dual-sim morning blue</td>\n",
       "    </tr>\n",
       "    <tr>\n",
       "      <th>17990</th>\n",
       "      <td>xiaomi mi a3 64gb dual sim / unlocked - blue</td>\n",
       "    </tr>\n",
       "    <tr>\n",
       "      <th>17991</th>\n",
       "      <td>nokia 216 dual sim - mobiltelefon - dual-sim -...</td>\n",
       "    </tr>\n",
       "    <tr>\n",
       "      <th>17992</th>\n",
       "      <td>samsung galaxy s10+ 128gb - prism white</td>\n",
       "    </tr>\n",
       "  </tbody>\n",
       "</table>\n",
       "<p>17993 rows × 1 columns</p>\n",
       "</div>"
      ],
      "text/plain": [
       "                                                    name\n",
       "0      samsung galaxy a8s g8870 128gb 6gb(ram) (dual ...\n",
       "1      xiaomi pocophone f1 global version 6.18 inch 6...\n",
       "2                 sony xperia z3 plus e6553 32gb (white)\n",
       "3      xiaomi mi a2 lite 64gb dual sim / unlocked - b...\n",
       "4      xiaomi mi 9 6gb/128gb dual sim sim free/ unloc...\n",
       "...                                                  ...\n",
       "17988  samsung galaxy a10 dual-sim 32gb 6.2-inch hd+ ...\n",
       "17989      xiaomi redmi 7a 4g 16gb dual-sim morning blue\n",
       "17990       xiaomi mi a3 64gb dual sim / unlocked - blue\n",
       "17991  nokia 216 dual sim - mobiltelefon - dual-sim -...\n",
       "17992            samsung galaxy s10+ 128gb - prism white\n",
       "\n",
       "[17993 rows x 1 columns]"
      ]
     },
     "execution_count": 131,
     "metadata": {},
     "output_type": "execute_result"
    }
   ],
   "source": [
    "X"
   ]
  },
  {
   "cell_type": "markdown",
   "id": "daa11fe6-32e2-4473-a6c5-49c95e8a5826",
   "metadata": {},
   "source": [
    "## Vary features"
   ]
  },
  {
   "cell_type": "markdown",
   "id": "5f16c9d3-f8fa-49ed-83b3-8f75bac6141e",
   "metadata": {
    "tags": []
   },
   "source": [
    "**Text features**: The offer `name` can be featurized and used for predicting the product. Similarly `description` could be used. However, `offer` looks more specific and promising for modeling and is also always avaialable while `description` is often missing.\n",
    "\n",
    "I normalize using [TF-IDF](https://en.wikipedia.org/wiki/Tf%E2%80%93idf). The TF term sets the importance of the word relative to the document (offer) and the IDF term sets the importance of the word for the whole corpus (all offers). For instance *sim* may be relatively important in the offer name but less important when considering also other offer names. The feature values are now floating point weights, not integer counts.\n",
    "\n",
    "**Numerical features**: The only numerical feature is `priceAmount` which I normalize with min-max scaling.\n",
    "\n",
    "\n",
    "I consider the features by themselves and in combination. For combining, here I simply concatenate the features coming from each data variable (this could be improved on)."
   ]
  },
  {
   "cell_type": "code",
   "execution_count": 137,
   "id": "70e1b719-57b4-4656-aba5-f91f0e351cc5",
   "metadata": {},
   "outputs": [],
   "source": [
    "def get_transformed_features(features):\n",
    "    # Transform each column separately\n",
    "    Xs = []\n",
    "    for col in features:\n",
    "        cols = [col]\n",
    "        dtype = X[col].dtype\n",
    "        if dtype == 'string':\n",
    "            Xs.append(transform_text(X_train[cols], X_test[cols]))\n",
    "        elif dtype == 'float':\n",
    "            Xs.append(transform_numerical(X_train[cols], X_test[cols]))\n",
    "        else:\n",
    "            raise ValueError(f\"Unkown dtype {dtype}\")\n",
    "\n",
    "    X_train_transf, X_test_transf = zip(*Xs)\n",
    "\n",
    "    # Concatenate\n",
    "    try:\n",
    "        X_train_transf = sparse.hstack(X_train_transf).tocsr()\n",
    "        X_test_transf = sparse.hstack(X_test_transf).tocsr()\n",
    "    except ValueError:\n",
    "        X_train_transf = np.hstack(X_train_transf)\n",
    "        X_test_transf = np.hstack(X_test_transf)\n",
    "\n",
    "    return X_train_transf, X_test_transf"
   ]
  },
  {
   "cell_type": "code",
   "execution_count": 138,
   "id": "394f3517-15e3-4ee3-8123-c36ef35a4676",
   "metadata": {},
   "outputs": [],
   "source": [
    "def transform_numerical(X_train, X_test):\n",
    "    x_scaler = MinMaxScaler().fit(X_train)\n",
    "    X_train_transf = x_scaler.transform(X_train)\n",
    "    X_test_transf = x_scaler.transform(X_test)\n",
    "    return X_train_transf, X_test_transf"
   ]
  },
  {
   "cell_type": "code",
   "execution_count": 139,
   "id": "04607f71-2713-4fcb-890e-967e0c13f2a9",
   "metadata": {},
   "outputs": [],
   "source": [
    "def transform_text(X_train, X_test):\n",
    "    vectorizer = CountVectorizer()\n",
    "    X_train_transf = vectorizer.fit_transform(X_train.to_numpy().ravel())\n",
    "    tfidf_transformer = TfidfTransformer()\n",
    "    X_train_transf = tfidf_transformer.fit_transform(X_train_transf)\n",
    "    X_test_transf = tfidf_transformer.transform(vectorizer.transform(X_test.to_numpy().ravel()))\n",
    "    return X_train_transf, X_test_transf"
   ]
  },
  {
   "cell_type": "code",
   "execution_count": 140,
   "id": "8200215c-277a-4f5e-9e3a-e81906cc16d8",
   "metadata": {},
   "outputs": [],
   "source": [
    "# Dict of input features\n",
    "Xs = {}\n",
    "# The cols used for each feature combination\n",
    "Xs_cols = {}"
   ]
  },
  {
   "cell_type": "code",
   "execution_count": 141,
   "id": "f1fa3aa4-5ec0-4745-b4a9-6393088da7df",
   "metadata": {},
   "outputs": [],
   "source": [
    "def add_features(features):\n",
    "    name = '-'.join(features)\n",
    "    print(\"adding\", features, name)\n",
    "    Xs_cols[name] = features\n",
    "    Xs[name] = get_transformed_features(features)"
   ]
  },
  {
   "cell_type": "code",
   "execution_count": 142,
   "id": "518a8e5f-2333-4e2d-bd63-d080f2c9a59d",
   "metadata": {},
   "outputs": [
    {
     "name": "stdout",
     "output_type": "stream",
     "text": [
      "adding ['priceAmount'] priceAmount\n",
      "adding ['name'] name\n",
      "adding ['description'] description\n",
      "adding ['priceAmount', 'name'] priceAmount-name\n",
      "adding ['priceAmount', 'description'] priceAmount-description\n",
      "adding ['name', 'description'] name-description\n",
      "adding ['priceAmount', 'name', 'description'] priceAmount-name-description\n"
     ]
    }
   ],
   "source": [
    "# Generate the combinations\n",
    "feature_candidates = ['priceAmount', 'name', 'description']\n",
    "\n",
    "# Singles\n",
    "for name in feature_candidates:\n",
    "    add_features([name])\n",
    "\n",
    "# Pairs\n",
    "for i, name1 in enumerate(feature_candidates):\n",
    "    for name2 in feature_candidates[i:]:\n",
    "        if name2 == name1:\n",
    "            continue\n",
    "        add_features([name1, name2])\n",
    "        \n",
    "# All\n",
    "# Skip for now\n",
    "add_features(feature_candidates)"
   ]
  },
  {
   "cell_type": "markdown",
   "id": "6ed12e7f-9349-46d1-96f6-dce3ca98aa01",
   "metadata": {},
   "source": [
    "## Test"
   ]
  },
  {
   "cell_type": "markdown",
   "id": "cdb94ce4-59d1-43f2-952c-1cbab342d260",
   "metadata": {},
   "source": [
    "I check the \"worst-case\" candidate roughly how long cross-validation takes, to see if the search is feasible. For this I pick the largest-dimensional feature space combined with the SVM model."
   ]
  },
  {
   "cell_type": "code",
   "execution_count": 143,
   "id": "6cf9234f-aa7b-47a1-b7cf-6343f56ed9d5",
   "metadata": {},
   "outputs": [],
   "source": [
    "X_train_transf, X_test_transf = Xs['priceAmount-name-description']"
   ]
  },
  {
   "cell_type": "code",
   "execution_count": 144,
   "id": "be3083c6-b9be-4240-88ad-29f68914765a",
   "metadata": {},
   "outputs": [
    {
     "data": {
      "text/plain": [
       "<12595x28909 sparse matrix of type '<class 'numpy.float64'>'\n",
       "\twith 861667 stored elements in Compressed Sparse Row format>"
      ]
     },
     "execution_count": 144,
     "metadata": {},
     "output_type": "execute_result"
    }
   ],
   "source": [
    "X_train_transf"
   ]
  },
  {
   "cell_type": "code",
   "execution_count": 145,
   "id": "193ae047-ceb6-4b46-a556-5118a0214a8d",
   "metadata": {},
   "outputs": [],
   "source": [
    "model_name = 'linear-svm'\n",
    "clf = models[model_name](**params_fixed[model_name])"
   ]
  },
  {
   "cell_type": "code",
   "execution_count": 146,
   "id": "ce29c7d2-6d47-4238-a642-fe88a483eb11",
   "metadata": {},
   "outputs": [
    {
     "data": {
      "text/plain": [
       "{'random_state': 0, 'loss': 'hinge', 'max_iter': 10, 'tol': None}"
      ]
     },
     "execution_count": 146,
     "metadata": {},
     "output_type": "execute_result"
    }
   ],
   "source": [
    "params_fixed[model_name]"
   ]
  },
  {
   "cell_type": "code",
   "execution_count": 149,
   "id": "a0210434-7b68-41c7-b50f-3ec548840a1e",
   "metadata": {},
   "outputs": [
    {
     "name": "stdout",
     "output_type": "stream",
     "text": [
      "Fitting 5 folds for each of 1 candidates, totalling 5 fits\n",
      "218.198637008667\n"
     ]
    }
   ],
   "source": [
    "n_iter = 1\n",
    "search = RandomizedSearchCV(clf, param_distributions=params[model_name],\n",
    "                            scoring=scoring, cv=cv, verbose=1, random_state=0, n_iter=n_iter)\n",
    "\n",
    "with warnings.catch_warnings():\n",
    "    t0 = time()\n",
    "    warnings.filterwarnings(\"ignore\", category=ConvergenceWarning, module=\"sklearn\")\n",
    "    result = search.fit(X_train_transf, y_train.ravel())\n",
    "    print(time() - t0)"
   ]
  },
  {
   "cell_type": "code",
   "execution_count": 150,
   "id": "7c2d15a6-8b19-42a9-bcf4-a01e2dc9cfc1",
   "metadata": {},
   "outputs": [
    {
     "data": {
      "text/plain": [
       "3.6333333333333333"
      ]
     },
     "execution_count": 150,
     "metadata": {},
     "output_type": "execute_result"
    }
   ],
   "source": [
    "# In minutes\n",
    "218/60"
   ]
  },
  {
   "cell_type": "code",
   "execution_count": 152,
   "id": "2b735ceb-5fac-46ca-b8c9-5069cd634cd9",
   "metadata": {},
   "outputs": [
    {
     "data": {
      "text/plain": [
       "1.2716666666666667"
      ]
     },
     "execution_count": 152,
     "metadata": {},
     "output_type": "execute_result"
    }
   ],
   "source": [
    "# Number of combinations * time in hours\n",
    "len(Xs)*len(models)*(218/3600)"
   ]
  },
  {
   "cell_type": "markdown",
   "id": "9cde841f-51e7-4d2c-bffc-b417f41196f9",
   "metadata": {},
   "source": [
    "For only a single hyperparameter sample per combination of model and feature, the cross-validation will take 1.3 h. For say, 10 samples this is almost 13 h which are more hours than my workday... To shorten the iteration time I remove some combinations manually."
   ]
  },
  {
   "cell_type": "markdown",
   "id": "a43c3fed-0b78-4c12-9331-78034512ba29",
   "metadata": {},
   "source": [
    "## Remove some combinations"
   ]
  },
  {
   "cell_type": "markdown",
   "id": "3d138ce0-c96a-420b-b2d6-a9b7699de0c2",
   "metadata": {},
   "source": [
    "To shorten the search time for a first check, remove some combinations (the very high-dimensional ones which also take longer to fit for)."
   ]
  },
  {
   "cell_type": "code",
   "execution_count": 154,
   "id": "84f3dceb-77e1-4849-ab7a-b403d32cc85a",
   "metadata": {},
   "outputs": [
    {
     "data": {
      "text/plain": [
       "dict_keys(['priceAmount', 'name', 'description', 'priceAmount-name', 'priceAmount-description', 'name-description', 'priceAmount-name-description'])"
      ]
     },
     "execution_count": 154,
     "metadata": {},
     "output_type": "execute_result"
    }
   ],
   "source": [
    "Xs.keys()"
   ]
  },
  {
   "cell_type": "code",
   "execution_count": 155,
   "id": "e3dca6b7-085f-442c-bdb8-4013ef26ecd5",
   "metadata": {},
   "outputs": [],
   "source": [
    "del Xs['priceAmount-name-description']\n",
    "del Xs['name-description']"
   ]
  },
  {
   "cell_type": "code",
   "execution_count": 156,
   "id": "0f427c2b-d291-40de-a3cd-58f47b7862d3",
   "metadata": {},
   "outputs": [
    {
     "name": "stdout",
     "output_type": "stream",
     "text": [
      "dict_keys(['priceAmount', 'name', 'description', 'priceAmount-name', 'priceAmount-description'])\n"
     ]
    }
   ],
   "source": [
    "print(Xs.keys())"
   ]
  },
  {
   "cell_type": "markdown",
   "id": "15a484a7-1acd-4b0d-970b-82370bd38a1d",
   "metadata": {
    "tags": []
   },
   "source": [
    "## Perform the search"
   ]
  },
  {
   "cell_type": "code",
   "execution_count": 158,
   "id": "ea3aa10a-21b5-47a1-9c6e-c63b9f7b2694",
   "metadata": {},
   "outputs": [
    {
     "name": "stdout",
     "output_type": "stream",
     "text": [
      "('knn', 'priceAmount')\n",
      "Fitting 5 folds for each of 10 candidates, totalling 50 fits\n",
      "5.762128114700317\n",
      "('naive-bayes', 'priceAmount')\n",
      "Fitting 5 folds for each of 10 candidates, totalling 50 fits\n",
      "5.950376749038696\n",
      "('linear-svm', 'priceAmount')\n",
      "Fitting 5 folds for each of 10 candidates, totalling 50 fits\n",
      "151.64012718200684\n",
      "('knn', 'name')\n",
      "Fitting 5 folds for each of 10 candidates, totalling 50 fits\n",
      "41.78120803833008\n",
      "('naive-bayes', 'name')\n",
      "Fitting 5 folds for each of 10 candidates, totalling 50 fits\n",
      "11.171648979187012\n",
      "('linear-svm', 'name')\n",
      "Fitting 5 folds for each of 10 candidates, totalling 50 fits\n",
      "326.25977516174316\n",
      "('knn', 'description')\n",
      "Fitting 5 folds for each of 10 candidates, totalling 50 fits\n",
      "51.10265493392944\n",
      "('naive-bayes', 'description')\n",
      "Fitting 5 folds for each of 10 candidates, totalling 50 fits\n",
      "91.68438196182251\n",
      "('linear-svm', 'description')\n",
      "Fitting 5 folds for each of 10 candidates, totalling 50 fits\n",
      "1293.6771221160889\n",
      "('knn', 'priceAmount-name')\n",
      "Fitting 5 folds for each of 10 candidates, totalling 50 fits\n",
      "48.35470509529114\n",
      "('naive-bayes', 'priceAmount-name')\n",
      "Fitting 5 folds for each of 10 candidates, totalling 50 fits\n",
      "11.710525035858154\n",
      "('linear-svm', 'priceAmount-name')\n",
      "Fitting 5 folds for each of 10 candidates, totalling 50 fits\n",
      "329.042582988739\n",
      "('knn', 'priceAmount-description')\n",
      "Fitting 5 folds for each of 10 candidates, totalling 50 fits\n",
      "55.32777690887451\n",
      "('naive-bayes', 'priceAmount-description')\n",
      "Fitting 5 folds for each of 10 candidates, totalling 50 fits\n",
      "85.79727792739868\n",
      "('linear-svm', 'priceAmount-description')\n",
      "Fitting 5 folds for each of 10 candidates, totalling 50 fits\n",
      "1257.168317079544\n"
     ]
    }
   ],
   "source": [
    "search_results = {}\n",
    "n_iter = 10\n",
    "for x_name, (X_train_transf, X_test_transf)  in Xs.items():\n",
    "    for model_name, model_cls in models.items():\n",
    "        clf = model_cls(**params_fixed[model_name])\n",
    "        key = (model_name, x_name)\n",
    "        print(key)\n",
    "        search = RandomizedSearchCV(clf, param_distributions=params[model_name],\n",
    "                                    scoring=scoring, cv=cv, verbose=1, random_state=0, n_iter=n_iter)\n",
    "        # Ignore warnings from combinations that don't converge\n",
    "        with warnings.catch_warnings():\n",
    "            t0 = time()\n",
    "            warnings.filterwarnings(\"ignore\", category=ConvergenceWarning, module=\"sklearn\")\n",
    "            search_results[key] = search.fit(X_train_transf, y_train.ravel())\n",
    "            print(time() - t0)"
   ]
  },
  {
   "cell_type": "code",
   "execution_count": 161,
   "id": "ecb3c025-4097-4b26-80dd-9e9a19f07730",
   "metadata": {},
   "outputs": [
    {
     "data": {
      "text/plain": [
       "20.95"
      ]
     },
     "execution_count": 161,
     "metadata": {},
     "output_type": "execute_result"
    }
   ],
   "source": [
    "# Took about 21 min\n",
    "1257/60"
   ]
  },
  {
   "cell_type": "markdown",
   "id": "3daa2b40-0d38-4bd3-a4bd-e5c8f751801d",
   "metadata": {},
   "source": [
    "# Results"
   ]
  },
  {
   "cell_type": "code",
   "execution_count": 159,
   "id": "4322a6a1-ef95-4b72-a014-0bfd27834fb3",
   "metadata": {},
   "outputs": [],
   "source": [
    "def top_results(search_results):\n",
    "    \"\"\"Return the best result of each search.\n",
    "    \n",
    "    Returns sorted dict, highest scoring first.\n",
    "    \"\"\"\n",
    "    # TODO; is a bit messy here.\n",
    "    best_results = dict()\n",
    "    for name, search in search_results.items():\n",
    "        means, stds, params = [search.cv_results_[x] for x in ('mean_test_score', 'std_test_score', 'params')]\n",
    "        means_stds_params_sorted = sorted(zip(means, stds, params), key=(lambda t: t[0]), reverse=True)\n",
    "        first = means_stds_params_sorted[0]\n",
    "        mean, std, params = first\n",
    "        best_results[name] = mean, std, params\n",
    "    best_results = dict(sorted(best_results.items(), key=lambda x: x[1][0], reverse=True))\n",
    "    return best_results"
   ]
  },
  {
   "cell_type": "code",
   "execution_count": 160,
   "id": "b92209f6-01f3-45fc-b696-a74795b0bb2a",
   "metadata": {},
   "outputs": [],
   "source": [
    "best_results = top_results(search_results)"
   ]
  },
  {
   "cell_type": "code",
   "execution_count": 162,
   "id": "fa0c11b8-2dc5-405c-a6c5-fe0a86eeaf18",
   "metadata": {},
   "outputs": [
    {
     "data": {
      "text/plain": [
       "{('linear-svm', 'priceAmount-name'): (0.780547836443033,\n",
       "  0.007788962901742434,\n",
       "  {'alpha': 0.0001149887074711945,\n",
       "   'class_weight': 'balanced',\n",
       "   'penalty': 'l2'}),\n",
       " ('linear-svm', 'name'): (0.7803096466851926,\n",
       "  0.008963730386600532,\n",
       "  {'alpha': 0.0001149887074711945,\n",
       "   'class_weight': 'balanced',\n",
       "   'penalty': 'l2'}),\n",
       " ('knn', 'priceAmount-name'): (0.7463279078999603,\n",
       "  0.008621021550228118,\n",
       "  {'n_neighbors': 4, 'weights': 'distance'}),\n",
       " ('knn', 'name'): (0.7395791980944819,\n",
       "  0.007375767630007848,\n",
       "  {'n_neighbors': 4, 'weights': 'distance'}),\n",
       " ('naive-bayes', 'name'): (0.6019055180627232,\n",
       "  0.014586948551589523,\n",
       "  {'alpha': 0.14135935551752296}),\n",
       " ('naive-bayes', 'priceAmount-name'): (0.5991266375545851,\n",
       "  0.0140475874900176,\n",
       "  {'alpha': 0.14135935551752296}),\n",
       " ('knn', 'priceAmount-description'): (0.5109170305676857,\n",
       "  0.011107011997849038,\n",
       "  {'n_neighbors': 1, 'weights': 'distance'}),\n",
       " ('knn', 'description'): (0.3473600635172688,\n",
       "  0.008081308868598315,\n",
       "  {'n_neighbors': 1, 'weights': 'distance'}),\n",
       " ('knn', 'priceAmount'): (0.3408495434696308,\n",
       "  0.005370872417717426,\n",
       "  {'n_neighbors': 45, 'weights': 'distance'}),\n",
       " ('linear-svm', 'description'): (0.32012703453751484,\n",
       "  0.0071615544478155916,\n",
       "  {'alpha': 0.0001149887074711945,\n",
       "   'class_weight': 'balanced',\n",
       "   'penalty': 'l2'}),\n",
       " ('linear-svm', 'priceAmount-description'): (0.32004763795156804,\n",
       "  0.006592307663246385,\n",
       "  {'alpha': 0.0001149887074711945,\n",
       "   'class_weight': 'balanced',\n",
       "   'penalty': 'l2'}),\n",
       " ('naive-bayes', 'description'): (0.18697895990472407,\n",
       "  0.011326195012058046,\n",
       "  {'alpha': 0.14135935551752296}),\n",
       " ('naive-bayes', 'priceAmount-description'): (0.18618499404525607,\n",
       "  0.011348435966245267,\n",
       "  {'alpha': 0.14135935551752296}),\n",
       " ('naive-bayes', 'priceAmount'): (0.019610956728860658,\n",
       "  0.001970571440411411,\n",
       "  {'alpha': 0.4430375245218265}),\n",
       " ('linear-svm', 'priceAmount'): (0.016673283048828903,\n",
       "  0.00559168459282541,\n",
       "  {'alpha': 0.07780155576901415, 'class_weight': None, 'penalty': 'l2'})}"
      ]
     },
     "execution_count": 162,
     "metadata": {},
     "output_type": "execute_result"
    }
   ],
   "source": [
    "best_results"
   ]
  },
  {
   "cell_type": "code",
   "execution_count": 163,
   "id": "9d06bc0d-5226-413c-8c31-9d70caa542b6",
   "metadata": {},
   "outputs": [
    {
     "data": {
      "image/png": "[encoded data removed]",
      "text/plain": [
       "<Figure size 432x288 with 1 Axes>"
      ]
     },
     "metadata": {},
     "output_type": "display_data"
    }
   ],
   "source": [
    "# Plot the best results\n",
    "# Pick the simplest model as baseline\n",
    "# TODO: could rotate this plot.\n",
    "\n",
    "# Use as a very low-bar baseline the accuracy of picking the right one category in the training set at random.\n",
    "baseline_val = 1/len(y_train.unique())\n",
    "if baseline_val:\n",
    "    plt.axhline(baseline_val, linestyle='--', color='gray', linewidth=1.5, label=\"Random choice\")\n",
    "    plt.legend()\n",
    "labels=[]\n",
    "for i, label in enumerate(best_results):\n",
    "    mae, std = best_results[label][:2]\n",
    "    plt.errorbar(i, mae, yerr=std, color='C0', marker='o', capsize=3)\n",
    "    labels.append(label)\n",
    "plt.xticks(np.arange(len(labels)), labels, rotation=90);\n",
    "plt.ylabel('');\n",
    "plt.title(\"Model performance\");"
   ]
  },
  {
   "cell_type": "markdown",
   "id": "8d7176af-d1a6-4de2-b634-1aed56645064",
   "metadata": {},
   "source": [
    "Some observations:\n",
    "* As expected, the name is the most predictive, followed by the description and price (which are comparable as single predictors).\n",
    "* Linear SVM is the highest performing.\n",
    "* Adding the price to a text feature barely does anything; the two highest performing `(linear-svm, priceAmount-name)` and `(linear-svm, name)` are essentialy the same."
   ]
  },
  {
   "cell_type": "markdown",
   "id": "4ce137a9-2542-46ba-bba1-ec215dd44c6b",
   "metadata": {
    "tags": []
   },
   "source": [
    "## Evaluate best model"
   ]
  },
  {
   "cell_type": "code",
   "execution_count": 164,
   "id": "1ca85dcb-5dbf-4ec1-a930-423cd07030c7",
   "metadata": {},
   "outputs": [
    {
     "name": "stdout",
     "output_type": "stream",
     "text": [
      "linear-svm priceAmount-name {'alpha': 0.0001149887074711945, 'class_weight': 'balanced', 'penalty': 'l2'}\n"
     ]
    }
   ],
   "source": [
    "first = list(best_results)[0]\n",
    "best_params = best_results[first][-1]\n",
    "model_name, x_name = first\n",
    "print(model_name, x_name, best_params)"
   ]
  },
  {
   "cell_type": "code",
   "execution_count": 165,
   "id": "4f5c4ef5-caa0-4bb2-b451-37695c76540b",
   "metadata": {},
   "outputs": [
    {
     "name": "stdout",
     "output_type": "stream",
     "text": [
      "SGDClassifier(alpha=0.0001149887074711945, class_weight='balanced', max_iter=10,\n",
      "              random_state=0, tol=None)\n"
     ]
    }
   ],
   "source": [
    "clf = models[model_name](**params_fixed[model_name], **best_params)\n",
    "print(clf)"
   ]
  },
  {
   "cell_type": "code",
   "execution_count": 166,
   "id": "ea25d85d-4821-4361-a39e-4a44ae355c2e",
   "metadata": {},
   "outputs": [],
   "source": [
    "X_train_transf, X_test_transf = Xs[x_name]"
   ]
  },
  {
   "cell_type": "code",
   "execution_count": 167,
   "id": "55fd35f2-e809-4a33-9df5-ec3a7f124403",
   "metadata": {},
   "outputs": [
    {
     "data": {
      "text/plain": [
       "SGDClassifier(alpha=0.0001149887074711945, class_weight='balanced', max_iter=10,\n",
       "              random_state=0, tol=None)"
      ]
     },
     "execution_count": 167,
     "metadata": {},
     "output_type": "execute_result"
    }
   ],
   "source": [
    "clf.fit(X_train_transf, y_train)"
   ]
  },
  {
   "cell_type": "code",
   "execution_count": 168,
   "id": "6a842d03-bf2e-4615-aca8-00c9265a4f93",
   "metadata": {},
   "outputs": [],
   "source": [
    "y_pred = clf.predict(X_test_transf)\n",
    "score = metrics.accuracy_score(y_test, y_pred)"
   ]
  },
  {
   "cell_type": "code",
   "execution_count": 169,
   "id": "a6c6b5dc-f157-48f5-abb2-f65a37ccc2f1",
   "metadata": {},
   "outputs": [
    {
     "data": {
      "text/plain": [
       "0.7932567617636161"
      ]
     },
     "execution_count": 169,
     "metadata": {},
     "output_type": "execute_result"
    }
   ],
   "source": [
    "# Test score\n",
    "score"
   ]
  },
  {
   "cell_type": "markdown",
   "id": "e1e46886-dba7-4c14-aa8b-6b1ee69d4eee",
   "metadata": {},
   "source": [
    "# Conclusions"
   ]
  },
  {
   "cell_type": "markdown",
   "id": "c976d1fc-c26c-4c45-af73-5b7f992ed18e",
   "metadata": {},
   "source": [
    "- Classification models were evaluated to predict which product and offer is for, given information about the offer.\n",
    "- A search over model types with hyperparameters and input features was carried out using a randomized search. Accuracy was used as a scoring metric.\n",
    "- **Result:** the best scoring model was linear SVM with using the offer `name` feature combined with `priceAmount`, with a test accuracy of 0.79. Including `name` only yielded similar performance."
   ]
  },
  {
   "cell_type": "markdown",
   "id": "e27d423e-c62f-4946-83e3-4141084f9640",
   "metadata": {
    "tags": []
   },
   "source": [
    "## Next steps\n",
    "The current solution has several weaknesses could be improved upon.\n",
    "* Here numerical feature is simply appended to the text features, which might not be the best, especially when the number of text features is large. For instance one may want to apply neural network embeddings on the text features to reduce the dimensionality and then possibly apply more sophisticade NLP sequence models (LSTM, BERT) before merging the text output with the numerical feaures. A more simplistic way of achieving dimensionality reduction is to select the most \"important\" text features (words) for instance using Chi2 or frequency as metric.\n",
    "* Similarly, there are alternative ways of combining two text source (here `description`, `name`). \n",
    "* All information is not being used here. In particular, the product attributes. These contain very detailed information about the products, which could for instance be used in conjunction with the offer description.\n",
    "* Some data is simply disgarded because of missing connections between product and offer. Similarly, many products have few offers, which for instance leads to some mappings being in the training set but not in the test set or vice-versa. Possibly some form of clustering could be useful here.\n",
    "    * For instance, an extra class could be added representing offers not connected to any products.\n",
    "* To understand where predictions fail, some form of error analysis could be useful. To begin, simply inspecting error cases.\n",
    "* The linear SVM was very slow to fit compared to the other models. If extending the searhc, it may be worth to  see if the performance can be tuned."
   ]
  },
  {
   "cell_type": "markdown",
   "id": "ccb75215-6f61-448b-a84f-7f541ada64e5",
   "metadata": {},
   "source": [
    "## Read more\n",
    "Here are some sources I found relevant for exploring and investigating next steps:\n",
    "* https://nlp.stanford.edu/IR-book/html/htmledition/text-classification-and-naive-bayes-1.html\n",
    "* https://datascience.stackexchange.com/questions/72791/training-a-classifier-with-text-and-numerical-features-what-is-the-state-of-th\n",
    "* https://towardsdatascience.com/how-to-combine-textual-and-numerical-features-for-machine-learning-in-python-dc1526ca94d9 \n",
    "* https://www.kaggle.com/general/60958"
   ]
  }
 ],
 "metadata": {
  "kernelspec": {
   "display_name": "Python 3 (ipykernel)",
   "language": "python",
   "name": "python3"
  },
  "language_info": {
   "codemirror_mode": {
    "name": "ipython",
    "version": 3
   },
   "file_extension": ".py",
   "mimetype": "text/x-python",
   "name": "python",
   "nbconvert_exporter": "python",
   "pygments_lexer": "ipython3",
   "version": "3.8.6"
  },
  "toc-autonumbering": true,
  "toc-showcode": false,
  "toc-showmarkdowntxt": false
 },
 "nbformat": 4,
 "nbformat_minor": 5
}
